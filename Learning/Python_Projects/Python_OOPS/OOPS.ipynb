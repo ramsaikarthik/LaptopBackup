{
 "cells": [
  {
   "cell_type": "code",
   "execution_count": 7,
   "id": "chubby-fence",
   "metadata": {},
   "outputs": [
    {
     "name": "stdout",
     "output_type": "stream",
     "text": [
      "1 Lamborghini\n"
     ]
    }
   ],
   "source": [
    "class car:\n",
    "    def __init__(self, name, id):\n",
    "        self.name = name\n",
    "        self.id  = id\n",
    "    def display(self):\n",
    "        name = \"Inside display\"\n",
    "        id = 2\n",
    "        print(self.id, self.name)\n",
    "\n",
    "c1 = car(\"Lamborghini\",1)\n",
    "c1.display()"
   ]
  },
  {
   "cell_type": "code",
   "execution_count": null,
   "id": "nervous-desire",
   "metadata": {},
   "outputs": [],
   "source": []
  }
 ],
 "metadata": {
  "kernelspec": {
   "display_name": "Python 3",
   "language": "python",
   "name": "python3"
  },
  "language_info": {
   "codemirror_mode": {
    "name": "ipython",
    "version": 3
   },
   "file_extension": ".py",
   "mimetype": "text/x-python",
   "name": "python",
   "nbconvert_exporter": "python",
   "pygments_lexer": "ipython3",
   "version": "3.6.8"
  }
 },
 "nbformat": 4,
 "nbformat_minor": 5
}
