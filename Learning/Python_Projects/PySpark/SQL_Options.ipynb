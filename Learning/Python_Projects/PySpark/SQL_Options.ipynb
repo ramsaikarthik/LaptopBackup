{
 "cells": [
  {
   "cell_type": "code",
   "execution_count": 1,
   "id": "decreased-raleigh",
   "metadata": {},
   "outputs": [],
   "source": [
    "from pyspark.sql.functions import *\n",
    "from pyspark.sql import *\n",
    "import pyspark\n",
    "from pyspark.sql.types import *"
   ]
  },
  {
   "cell_type": "code",
   "execution_count": 2,
   "id": "synthetic-alabama",
   "metadata": {},
   "outputs": [],
   "source": [
    "spark = SparkSession.builder.appName(\"SQL_Options\").\\\n",
    "config(\"spark.driver.memory\",\"4g\").\\\n",
    "config(\"spark.executor.memory\",\"4g\").getOrCreate()"
   ]
  },
  {
   "cell_type": "code",
   "execution_count": 3,
   "id": "tight-sound",
   "metadata": {},
   "outputs": [],
   "source": [
    "path = \"./googleplaystore.csv\""
   ]
  },
  {
   "cell_type": "code",
   "execution_count": 4,
   "id": "diagnostic-cooling",
   "metadata": {},
   "outputs": [],
   "source": [
    "dataFrame = spark.read.csv(path,inferSchema=True,header=True)"
   ]
  },
  {
   "cell_type": "code",
   "execution_count": 5,
   "id": "hungry-compensation",
   "metadata": {},
   "outputs": [
    {
     "name": "stdout",
     "output_type": "stream",
     "text": [
      "root\n",
      " |-- App: string (nullable = true)\n",
      " |-- Category: string (nullable = true)\n",
      " |-- Rating: string (nullable = true)\n",
      " |-- Reviews: string (nullable = true)\n",
      " |-- Size: string (nullable = true)\n",
      " |-- Installs: string (nullable = true)\n",
      " |-- Type: string (nullable = true)\n",
      " |-- Price: string (nullable = true)\n",
      " |-- Content Rating: string (nullable = true)\n",
      " |-- Genres: string (nullable = true)\n",
      " |-- Last Updated: string (nullable = true)\n",
      " |-- Current Ver: string (nullable = true)\n",
      " |-- Android Ver: string (nullable = true)\n",
      "\n"
     ]
    }
   ],
   "source": [
    "dataFrame.printSchema()"
   ]
  },
  {
   "cell_type": "code",
   "execution_count": 6,
   "id": "focused-spain",
   "metadata": {},
   "outputs": [
    {
     "data": {
      "text/html": [
       "<div>\n",
       "<style scoped>\n",
       "    .dataframe tbody tr th:only-of-type {\n",
       "        vertical-align: middle;\n",
       "    }\n",
       "\n",
       "    .dataframe tbody tr th {\n",
       "        vertical-align: top;\n",
       "    }\n",
       "\n",
       "    .dataframe thead th {\n",
       "        text-align: right;\n",
       "    }\n",
       "</style>\n",
       "<table border=\"1\" class=\"dataframe\">\n",
       "  <thead>\n",
       "    <tr style=\"text-align: right;\">\n",
       "      <th></th>\n",
       "      <th>App</th>\n",
       "      <th>Category</th>\n",
       "      <th>Rating</th>\n",
       "      <th>Reviews</th>\n",
       "      <th>Size</th>\n",
       "      <th>Installs</th>\n",
       "      <th>Type</th>\n",
       "      <th>Price</th>\n",
       "      <th>Content Rating</th>\n",
       "      <th>Genres</th>\n",
       "      <th>Last Updated</th>\n",
       "      <th>Current Ver</th>\n",
       "      <th>Android Ver</th>\n",
       "    </tr>\n",
       "  </thead>\n",
       "  <tbody>\n",
       "    <tr>\n",
       "      <th>0</th>\n",
       "      <td>Photo Editor &amp; Candy Camera &amp; Grid &amp; ScrapBook</td>\n",
       "      <td>ART_AND_DESIGN</td>\n",
       "      <td>4.1</td>\n",
       "      <td>159</td>\n",
       "      <td>19M</td>\n",
       "      <td>10,000+</td>\n",
       "      <td>Free</td>\n",
       "      <td>0</td>\n",
       "      <td>Everyone</td>\n",
       "      <td>Art &amp; Design</td>\n",
       "      <td>January 7, 2018</td>\n",
       "      <td>1.0.0</td>\n",
       "      <td>4.0.3 and up</td>\n",
       "    </tr>\n",
       "    <tr>\n",
       "      <th>1</th>\n",
       "      <td>Coloring book moana</td>\n",
       "      <td>ART_AND_DESIGN</td>\n",
       "      <td>3.9</td>\n",
       "      <td>967</td>\n",
       "      <td>14M</td>\n",
       "      <td>500,000+</td>\n",
       "      <td>Free</td>\n",
       "      <td>0</td>\n",
       "      <td>Everyone</td>\n",
       "      <td>Art &amp; Design;Pretend Play</td>\n",
       "      <td>January 15, 2018</td>\n",
       "      <td>2.0.0</td>\n",
       "      <td>4.0.3 and up</td>\n",
       "    </tr>\n",
       "    <tr>\n",
       "      <th>2</th>\n",
       "      <td>U Launcher Lite – FREE Live Cool Themes, Hide ...</td>\n",
       "      <td>ART_AND_DESIGN</td>\n",
       "      <td>4.7</td>\n",
       "      <td>87510</td>\n",
       "      <td>8.7M</td>\n",
       "      <td>5,000,000+</td>\n",
       "      <td>Free</td>\n",
       "      <td>0</td>\n",
       "      <td>Everyone</td>\n",
       "      <td>Art &amp; Design</td>\n",
       "      <td>August 1, 2018</td>\n",
       "      <td>1.2.4</td>\n",
       "      <td>4.0.3 and up</td>\n",
       "    </tr>\n",
       "    <tr>\n",
       "      <th>3</th>\n",
       "      <td>Sketch - Draw &amp; Paint</td>\n",
       "      <td>ART_AND_DESIGN</td>\n",
       "      <td>4.5</td>\n",
       "      <td>215644</td>\n",
       "      <td>25M</td>\n",
       "      <td>50,000,000+</td>\n",
       "      <td>Free</td>\n",
       "      <td>0</td>\n",
       "      <td>Teen</td>\n",
       "      <td>Art &amp; Design</td>\n",
       "      <td>June 8, 2018</td>\n",
       "      <td>Varies with device</td>\n",
       "      <td>4.2 and up</td>\n",
       "    </tr>\n",
       "    <tr>\n",
       "      <th>4</th>\n",
       "      <td>Pixel Draw - Number Art Coloring Book</td>\n",
       "      <td>ART_AND_DESIGN</td>\n",
       "      <td>4.3</td>\n",
       "      <td>967</td>\n",
       "      <td>2.8M</td>\n",
       "      <td>100,000+</td>\n",
       "      <td>Free</td>\n",
       "      <td>0</td>\n",
       "      <td>Everyone</td>\n",
       "      <td>Art &amp; Design;Creativity</td>\n",
       "      <td>June 20, 2018</td>\n",
       "      <td>1.1</td>\n",
       "      <td>4.4 and up</td>\n",
       "    </tr>\n",
       "  </tbody>\n",
       "</table>\n",
       "</div>"
      ],
      "text/plain": [
       "                                                 App        Category Rating  \\\n",
       "0     Photo Editor & Candy Camera & Grid & ScrapBook  ART_AND_DESIGN    4.1   \n",
       "1                                Coloring book moana  ART_AND_DESIGN    3.9   \n",
       "2  U Launcher Lite – FREE Live Cool Themes, Hide ...  ART_AND_DESIGN    4.7   \n",
       "3                              Sketch - Draw & Paint  ART_AND_DESIGN    4.5   \n",
       "4              Pixel Draw - Number Art Coloring Book  ART_AND_DESIGN    4.3   \n",
       "\n",
       "  Reviews  Size     Installs  Type Price Content Rating  \\\n",
       "0     159   19M      10,000+  Free     0       Everyone   \n",
       "1     967   14M     500,000+  Free     0       Everyone   \n",
       "2   87510  8.7M   5,000,000+  Free     0       Everyone   \n",
       "3  215644   25M  50,000,000+  Free     0           Teen   \n",
       "4     967  2.8M     100,000+  Free     0       Everyone   \n",
       "\n",
       "                      Genres      Last Updated         Current Ver  \\\n",
       "0               Art & Design   January 7, 2018               1.0.0   \n",
       "1  Art & Design;Pretend Play  January 15, 2018               2.0.0   \n",
       "2               Art & Design    August 1, 2018               1.2.4   \n",
       "3               Art & Design      June 8, 2018  Varies with device   \n",
       "4    Art & Design;Creativity     June 20, 2018                 1.1   \n",
       "\n",
       "    Android Ver  \n",
       "0  4.0.3 and up  \n",
       "1  4.0.3 and up  \n",
       "2  4.0.3 and up  \n",
       "3    4.2 and up  \n",
       "4    4.4 and up  "
      ]
     },
     "execution_count": 6,
     "metadata": {},
     "output_type": "execute_result"
    }
   ],
   "source": [
    "dataFrame.limit(5).toPandas()"
   ]
  },
  {
   "cell_type": "code",
   "execution_count": 7,
   "id": "cellular-ireland",
   "metadata": {},
   "outputs": [],
   "source": [
    "dataFrameSchemaChanged = dataFrame.withColumn(\"Rating\", dataFrame[\"Rating\"].cast(FloatType())).\\\n",
    "withColumn(\"Reviews\", dataFrame[\"Reviews\"].cast(IntegerType())).\\\n",
    "withColumn(\"Price\", dataFrame[\"Price\"].cast(IntegerType()))"
   ]
  },
  {
   "cell_type": "code",
   "execution_count": 8,
   "id": "tired-output",
   "metadata": {},
   "outputs": [
    {
     "name": "stdout",
     "output_type": "stream",
     "text": [
      "root\n",
      " |-- App: string (nullable = true)\n",
      " |-- Category: string (nullable = true)\n",
      " |-- Rating: float (nullable = true)\n",
      " |-- Reviews: integer (nullable = true)\n",
      " |-- Size: string (nullable = true)\n",
      " |-- Installs: string (nullable = true)\n",
      " |-- Type: string (nullable = true)\n",
      " |-- Price: integer (nullable = true)\n",
      " |-- Content Rating: string (nullable = true)\n",
      " |-- Genres: string (nullable = true)\n",
      " |-- Last Updated: string (nullable = true)\n",
      " |-- Current Ver: string (nullable = true)\n",
      " |-- Android Ver: string (nullable = true)\n",
      "\n"
     ]
    }
   ],
   "source": [
    "dataFrameSchemaChanged.printSchema()"
   ]
  },
  {
   "cell_type": "code",
   "execution_count": 9,
   "id": "artificial-thesis",
   "metadata": {},
   "outputs": [],
   "source": [
    "dataFrameSchemaChanged.createOrReplaceTempView(\"TempView\")"
   ]
  },
  {
   "cell_type": "code",
   "execution_count": 10,
   "id": "personal-bookmark",
   "metadata": {},
   "outputs": [],
   "source": [
    "df1 = spark.sql(\"select * from TempView where Rating > 4.1\")"
   ]
  },
  {
   "cell_type": "code",
   "execution_count": 11,
   "id": "premier-proxy",
   "metadata": {},
   "outputs": [
    {
     "name": "stdout",
     "output_type": "stream",
     "text": [
      "+--------------------------------------------------------------------+------+\n",
      "|App                                                                 |Rating|\n",
      "+--------------------------------------------------------------------+------+\n",
      "|Manga Master - Best manga & comic reader                            |4.6   |\n",
      "|GANMA! - All original stories free of charge for all original comics|4.7   |\n",
      "|Röhrich Werner Soundboard                                           |4.7   |\n",
      "|Unicorn Pokez - Color By Number                                     |4.8   |\n",
      "|Manga - read Thai translation                                       |4.6   |\n",
      "+--------------------------------------------------------------------+------+\n",
      "only showing top 5 rows\n",
      "\n"
     ]
    }
   ],
   "source": [
    "df1.select(\"App\",\"Rating\").where(df1.Category == \"COMICS\").where(df1.Rating > 4.5).show(5,False)"
   ]
  },
  {
   "cell_type": "code",
   "execution_count": 12,
   "id": "demonstrated-boundary",
   "metadata": {},
   "outputs": [],
   "source": [
    "df2 = spark.sql(\"select Category, count(*) as cnt from TempView group by Category\")"
   ]
  },
  {
   "cell_type": "code",
   "execution_count": 59,
   "id": "controlling-permission",
   "metadata": {},
   "outputs": [
    {
     "name": "stdout",
     "output_type": "stream",
     "text": [
      "+-------------------+----+\n",
      "|Category           |Sum |\n",
      "+-------------------+----+\n",
      "|FAMILY             |1972|\n",
      "|GAME               |1144|\n",
      "|TOOLS              |843 |\n",
      "|MEDICAL            |463 |\n",
      "|BUSINESS           |460 |\n",
      "|PRODUCTIVITY       |424 |\n",
      "|PERSONALIZATION    |392 |\n",
      "|COMMUNICATION      |387 |\n",
      "|SPORTS             |384 |\n",
      "|LIFESTYLE          |382 |\n",
      "|FINANCE            |366 |\n",
      "|HEALTH_AND_FITNESS |340 |\n",
      "|PHOTOGRAPHY        |335 |\n",
      "|SOCIAL             |295 |\n",
      "|NEWS_AND_MAGAZINES |283 |\n",
      "|SHOPPING           |260 |\n",
      "|TRAVEL_AND_LOCAL   |258 |\n",
      "|DATING             |234 |\n",
      "|BOOKS_AND_REFERENCE|231 |\n",
      "|VIDEO_PLAYERS      |175 |\n",
      "|EDUCATION          |156 |\n",
      "|ENTERTAINMENT      |149 |\n",
      "|MAPS_AND_NAVIGATION|136 |\n",
      "|FOOD_AND_DRINK     |127 |\n",
      "|HOUSE_AND_HOME     |88  |\n",
      "|AUTO_AND_VEHICLES  |85  |\n",
      "|LIBRARIES_AND_DEMO |85  |\n",
      "|WEATHER            |82  |\n",
      "|ART_AND_DESIGN     |65  |\n",
      "|EVENTS             |64  |\n",
      "|PARENTING          |60  |\n",
      "|COMICS             |60  |\n",
      "|BEAUTY             |53  |\n",
      "|Face               |1   |\n",
      "|1.9                |1   |\n",
      "| traffic jams      |1   |\n",
      "+-------------------+----+\n",
      "\n"
     ]
    }
   ],
   "source": [
    "dataFrame.select(\"Rating\",\"Category\").groupBy(\"Category\").agg(count(\"Rating\").alias(\"Sum\")).\\\n",
    "orderBy(col(\"Sum\").desc()).show(40,truncate=False)"
   ]
  },
  {
   "cell_type": "code",
   "execution_count": 27,
   "id": "progressive-tackle",
   "metadata": {},
   "outputs": [
    {
     "name": "stdout",
     "output_type": "stream",
     "text": [
      "+-------------------+\n",
      "|           Category|\n",
      "+-------------------+\n",
      "|             EVENTS|\n",
      "|             COMICS|\n",
      "|             SPORTS|\n",
      "|            WEATHER|\n",
      "|      VIDEO_PLAYERS|\n",
      "|  AUTO_AND_VEHICLES|\n",
      "|          PARENTING|\n",
      "|      ENTERTAINMENT|\n",
      "|    PERSONALIZATION|\n",
      "| HEALTH_AND_FITNESS|\n",
      "|   TRAVEL_AND_LOCAL|\n",
      "|BOOKS_AND_REFERENCE|\n",
      "|     FOOD_AND_DRINK|\n",
      "|        PHOTOGRAPHY|\n",
      "|           BUSINESS|\n",
      "|             FAMILY|\n",
      "|           SHOPPING|\n",
      "|     HOUSE_AND_HOME|\n",
      "|               GAME|\n",
      "|               Face|\n",
      "|                1.9|\n",
      "|          EDUCATION|\n",
      "|       PRODUCTIVITY|\n",
      "|              TOOLS|\n",
      "|          LIFESTYLE|\n",
      "| NEWS_AND_MAGAZINES|\n",
      "|            MEDICAL|\n",
      "|      COMMUNICATION|\n",
      "|MAPS_AND_NAVIGATION|\n",
      "|             DATING|\n",
      "|       traffic jams|\n",
      "| LIBRARIES_AND_DEMO|\n",
      "|             BEAUTY|\n",
      "|             SOCIAL|\n",
      "|            FINANCE|\n",
      "|     ART_AND_DESIGN|\n",
      "+-------------------+\n",
      "\n"
     ]
    }
   ],
   "source": [
    "dataFrame.select(\"Category\").distinct().show(40)                                        "
   ]
  },
  {
   "cell_type": "code",
   "execution_count": 37,
   "id": "historic-fields",
   "metadata": {},
   "outputs": [
    {
     "name": "stdout",
     "output_type": "stream",
     "text": [
      "+---------------------+------+\n",
      "|                  App|Rating|\n",
      "+---------------------+------+\n",
      "| Manga Master - Be...|   4.6|\n",
      "| GANMA! - All orig...|   4.7|\n",
      "| Röhrich Werner So...|   4.7|\n",
      "| Unicorn Pokez - C...|   4.8|\n",
      "| Manga - read Thai...|   4.6|\n",
      "| Dragon Ball Wallp...|   4.7|\n",
      "| Children's cartoo...|   4.6|\n",
      "|【Ranobbe complete...|   NaN|\n",
      "|       Faustop Sounds|   4.7|\n",
      "| Hojiboy Tojiboyev...|   5.0|\n",
      "| Best Wallpapers B...|   4.7|\n",
      "| Laftel - Watching...|   4.6|\n",
      "|            WebComics|   4.8|\n",
      "| Superheroes, Marv...|   5.0|\n",
      "|       Pepsi Cards DC|   NaN|\n",
      "+---------------------+------+\n",
      "\n"
     ]
    }
   ],
   "source": [
    "dataFrame.select(\"App\",\"Rating\").where((col(\"Category\")==\"COMICS\")&(col(\"Rating\")>4.5)).show()"
   ]
  },
  {
   "cell_type": "code",
   "execution_count": 62,
   "id": "coated-ecuador",
   "metadata": {},
   "outputs": [
    {
     "name": "stdout",
     "output_type": "stream",
     "text": [
      "+--------------------------------------------------+\n",
      "|App                                               |\n",
      "+--------------------------------------------------+\n",
      "|Meet, chat & date. Free dating app - Chocolate app|\n",
      "|Friend Find: free chat + flirt dating app         |\n",
      "|Spine- The dating app                             |\n",
      "|Princess Closet : Otome games free dating sim     |\n",
      "|happn – Local dating app                          |\n",
      "+--------------------------------------------------+\n",
      "\n"
     ]
    }
   ],
   "source": [
    "dataFrame.select(\"App\").where(col(\"App\").contains(\"dating\")).show(5,False)"
   ]
  },
  {
   "cell_type": "code",
   "execution_count": 69,
   "id": "confirmed-lawsuit",
   "metadata": {},
   "outputs": [
    {
     "name": "stdout",
     "output_type": "stream",
     "text": [
      "+-----------------------------------+\n",
      "|Genres                             |\n",
      "+-----------------------------------+\n",
      "|Video Players & Editors;Creativity |\n",
      "|Adventure;Action & Adventure       |\n",
      "|Education                          |\n",
      "|Trivia                             |\n",
      "|Art & Design;Action & Adventure    |\n",
      "|Auto & Vehicles                    |\n",
      "|Travel & Local;Action & Adventure  |\n",
      "|Simulation;Action & Adventure      |\n",
      "|Education;Pretend Play             |\n",
      "|Tools;Education                    |\n",
      "|Entertainment                      |\n",
      "|Education;Education                |\n",
      "|Entertainment;Music & Video        |\n",
      "|Parenting;Brain Games              |\n",
      "|Simulation;Pretend Play            |\n",
      "|Arcade;Action & Adventure          |\n",
      "|Educational;Creativity             |\n",
      "|Arcade;Pretend Play                |\n",
      "|Casual;Music & Video               |\n",
      "|Adventure                          |\n",
      "|Arcade                             |\n",
      "|Books & Reference;Creativity       |\n",
      "|Education;Brain Games              |\n",
      "|Entertainment;Brain Games          |\n",
      "|Health & Fitness;Action & Adventure|\n",
      "|Sports                             |\n",
      "|Entertainment;Action & Adventure   |\n",
      "|Adventure;Education                |\n",
      "|Travel & Local                     |\n",
      "|Food & Drink                       |\n",
      "|Sports;Action & Adventure          |\n",
      "|Parenting;Education                |\n",
      "|Role Playing                       |\n",
      "|Casual;Pretend Play                |\n",
      "|Educational;Action & Adventure     |\n",
      "|Finance                            |\n",
      "|Education;Action & Adventure       |\n",
      "|Personalization                    |\n",
      "|Educational;Pretend Play           |\n",
      "|Action;Action & Adventure          |\n",
      "|Role Playing;Pretend Play          |\n",
      "|Racing                             |\n",
      "|Comics;Creativity                  |\n",
      "|Board;Action & Adventure           |\n",
      "|Tools                              |\n",
      "|Board;Brain Games                  |\n",
      "|Lifestyle;Pretend Play             |\n",
      "|Casual;Creativity                  |\n",
      "|Educational                        |\n",
      "|Parenting;Music & Video            |\n",
      "+-----------------------------------+\n",
      "only showing top 50 rows\n",
      "\n"
     ]
    }
   ],
   "source": [
    "dataFrame.select(\"Genres\").distinct().show(50,False)"
   ]
  },
  {
   "cell_type": "code",
   "execution_count": 75,
   "id": "quantitative-student",
   "metadata": {},
   "outputs": [
    {
     "name": "stdout",
     "output_type": "stream",
     "text": [
      "+---------------------------+---+\n",
      "|Genres                     |CNT|\n",
      "+---------------------------+---+\n",
      "|Tools                      |842|\n",
      "|Entertainment              |623|\n",
      "|Education                  |549|\n",
      "|Medical                    |463|\n",
      "|Business                   |460|\n",
      "|Productivity               |424|\n",
      "|Sports                     |398|\n",
      "|Personalization            |392|\n",
      "|Communication              |387|\n",
      "|Lifestyle                  |381|\n",
      "|Finance                    |366|\n",
      "|Action                     |365|\n",
      "|Health & Fitness           |340|\n",
      "|Photography                |335|\n",
      "|Social                     |295|\n",
      "|News & Magazines           |283|\n",
      "|Shopping                   |260|\n",
      "|Travel & Local             |257|\n",
      "|Dating                     |234|\n",
      "|Books & Reference          |231|\n",
      "|Arcade                     |220|\n",
      "|Simulation                 |200|\n",
      "|Casual                     |193|\n",
      "|Video Players & Editors    |173|\n",
      "|Puzzle                     |140|\n",
      "|Maps & Navigation          |136|\n",
      "|Food & Drink               |127|\n",
      "|Role Playing               |109|\n",
      "|Strategy                   |107|\n",
      "|Racing                     |98 |\n",
      "|House & Home               |88 |\n",
      "|Libraries & Demo           |85 |\n",
      "|Auto & Vehicles            |85 |\n",
      "|Weather                    |82 |\n",
      "|Adventure                  |75 |\n",
      "|Events                     |64 |\n",
      "|Comics                     |59 |\n",
      "|Art & Design               |58 |\n",
      "|Beauty                     |53 |\n",
      "|Education;Education        |50 |\n",
      "|Card                       |48 |\n",
      "|Parenting                  |46 |\n",
      "|Board                      |44 |\n",
      "|Educational;Education      |41 |\n",
      "|Casino                     |39 |\n",
      "|Trivia                     |38 |\n",
      "|Educational                |37 |\n",
      "|Casual;Pretend Play        |31 |\n",
      "|Word                       |29 |\n",
      "|Entertainment;Music & Video|27 |\n",
      "+---------------------------+---+\n",
      "only showing top 50 rows\n",
      "\n"
     ]
    }
   ],
   "source": [
    "dataFrame.select(\"Genres\").groupBy(\"Genres\").agg(count(\"Genres\").alias(\"CNT\")).sort(col(\"CNT\").desc()).show(50,truncate=False)"
   ]
  },
  {
   "cell_type": "code",
   "execution_count": 77,
   "id": "weird-security",
   "metadata": {},
   "outputs": [
    {
     "data": {
      "text/plain": [
       "535"
      ]
     },
     "execution_count": 77,
     "metadata": {},
     "output_type": "execute_result"
    }
   ],
   "source": [
    "dataFrame.select(\"App\").where((col(\"Genres\")=='Tools')&(col(\"Reviews\")>100)).count()"
   ]
  },
  {
   "cell_type": "code",
   "execution_count": null,
   "id": "lined-motel",
   "metadata": {},
   "outputs": [],
   "source": [
    "dataFrame.write.partitionBy"
   ]
  }
 ],
 "metadata": {
  "kernelspec": {
   "display_name": "Python 3",
   "language": "python",
   "name": "python3"
  },
  "language_info": {
   "codemirror_mode": {
    "name": "ipython",
    "version": 3
   },
   "file_extension": ".py",
   "mimetype": "text/x-python",
   "name": "python",
   "nbconvert_exporter": "python",
   "pygments_lexer": "ipython3",
   "version": "3.6.8"
  }
 },
 "nbformat": 4,
 "nbformat_minor": 5
}
