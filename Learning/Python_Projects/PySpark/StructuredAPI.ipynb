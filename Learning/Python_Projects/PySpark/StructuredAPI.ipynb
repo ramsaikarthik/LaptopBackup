{
 "cells": [
  {
   "cell_type": "code",
   "execution_count": 1,
   "id": "varied-cursor",
   "metadata": {},
   "outputs": [],
   "source": [
    "from pyspark.sql import SparkSession\n",
    "spark = SparkSession.builder.appName(\"PySpark_Structured_API\").config(\"spark.driver.memory\",\"4g\").config(\"spark.executor.memory\",\"4g\").getOrCreate()\n"
   ]
  },
  {
   "cell_type": "code",
   "execution_count": 27,
   "id": "obvious-affect",
   "metadata": {},
   "outputs": [
    {
     "data": {
      "text/html": [
       "\n",
       "            <div>\n",
       "                <p><b>SparkSession - in-memory</b></p>\n",
       "                \n",
       "        <div>\n",
       "            <p><b>SparkContext</b></p>\n",
       "\n",
       "            <p><a href=\"http://RamSaiKarthik:4040\">Spark UI</a></p>\n",
       "\n",
       "            <dl>\n",
       "              <dt>Version</dt>\n",
       "                <dd><code>v3.1.1</code></dd>\n",
       "              <dt>Master</dt>\n",
       "                <dd><code>local[*]</code></dd>\n",
       "              <dt>AppName</dt>\n",
       "                <dd><code>PySpark_Structured_API</code></dd>\n",
       "            </dl>\n",
       "        </div>\n",
       "        \n",
       "            </div>\n",
       "        "
      ],
      "text/plain": [
       "<pyspark.sql.session.SparkSession at 0x2b8fd237c88>"
      ]
     },
     "execution_count": 27,
     "metadata": {},
     "output_type": "execute_result"
    }
   ],
   "source": [
    "spark"
   ]
  },
  {
   "cell_type": "code",
   "execution_count": 28,
   "id": "overall-region",
   "metadata": {},
   "outputs": [],
   "source": [
    "cores=spark._jsc.sc().getExecutorMemoryStatus().keySet().size()"
   ]
  },
  {
   "cell_type": "code",
   "execution_count": 29,
   "id": "thrown-farmer",
   "metadata": {},
   "outputs": [
    {
     "data": {
      "text/plain": [
       "1"
      ]
     },
     "execution_count": 29,
     "metadata": {},
     "output_type": "execute_result"
    }
   ],
   "source": [
    "cores"
   ]
  },
  {
   "cell_type": "code",
   "execution_count": 2,
   "id": "moved-shopper",
   "metadata": {},
   "outputs": [],
   "source": [
    "from pyspark.sql.functions import *"
   ]
  },
  {
   "cell_type": "code",
   "execution_count": 3,
   "id": "considered-parent",
   "metadata": {},
   "outputs": [],
   "source": [
    "from pyspark.sql.types import StringType, StructField, StructType, IntegerType"
   ]
  },
  {
   "cell_type": "code",
   "execution_count": 4,
   "id": "touched-genesis",
   "metadata": {},
   "outputs": [],
   "source": [
    "data = [(\"James\",\"\",\"Smith\",\"36636\",\"M\",3000),\n",
    "    (\"Michael\",\"Rose\",\"\",\"40288\",\"M\",4000),\n",
    "    (\"Robert\",\"\",\"Williams\",\"42114\",\"M\",4000),\n",
    "    (\"Maria\",\"Anne\",\"Jones\",\"39192\",\"F\",4000),\n",
    "    (\"Jen\",\"Mary\",\"Brown\",\"\",\"F\",-1)\n",
    "  ]"
   ]
  },
  {
   "cell_type": "code",
   "execution_count": 5,
   "id": "drawn-budapest",
   "metadata": {},
   "outputs": [],
   "source": [
    "schema = StructType([\n",
    "    StructField(\"First Name\", StringType(), True),\n",
    "    StructField(\"Middle Name\", StringType(), True),\n",
    "    StructField(\"Last Name\", StringType(), True),\n",
    "    StructField(\"Id\", StringType(), True),\n",
    "    StructField(\"Gender\", StringType(), True),\n",
    "    StructField(\"Salary\", IntegerType(), True)\n",
    "])"
   ]
  },
  {
   "cell_type": "code",
   "execution_count": 6,
   "id": "inside-europe",
   "metadata": {},
   "outputs": [],
   "source": [
    "nameList_df = spark.createDataFrame(data=data, schema=schema)"
   ]
  },
  {
   "cell_type": "code",
   "execution_count": 7,
   "id": "proved-castle",
   "metadata": {},
   "outputs": [
    {
     "name": "stdout",
     "output_type": "stream",
     "text": [
      "root\n",
      " |-- First Name: string (nullable = true)\n",
      " |-- Middle Name: string (nullable = true)\n",
      " |-- Last Name: string (nullable = true)\n",
      " |-- Id: string (nullable = true)\n",
      " |-- Gender: string (nullable = true)\n",
      " |-- Salary: integer (nullable = true)\n",
      "\n"
     ]
    }
   ],
   "source": [
    "nameList_df.printSchema()"
   ]
  },
  {
   "cell_type": "code",
   "execution_count": 8,
   "id": "lucky-intensity",
   "metadata": {},
   "outputs": [
    {
     "name": "stdout",
     "output_type": "stream",
     "text": [
      "+----------+-----------+---------+-----+------+------+\n",
      "|First Name|Middle Name|Last Name|   Id|Gender|Salary|\n",
      "+----------+-----------+---------+-----+------+------+\n",
      "|     James|           |    Smith|36636|     M|  3000|\n",
      "|   Michael|       Rose|         |40288|     M|  4000|\n",
      "|    Robert|           | Williams|42114|     M|  4000|\n",
      "|     Maria|       Anne|    Jones|39192|     F|  4000|\n",
      "|       Jen|       Mary|    Brown|     |     F|    -1|\n",
      "+----------+-----------+---------+-----+------+------+\n",
      "\n"
     ]
    }
   ],
   "source": [
    "nameList_df.show()"
   ]
  },
  {
   "cell_type": "code",
   "execution_count": 9,
   "id": "available-structure",
   "metadata": {},
   "outputs": [
    {
     "name": "stdout",
     "output_type": "stream",
     "text": [
      "C:\\Learning\\Python_Projects\\PySpark\n"
     ]
    }
   ],
   "source": [
    "import os\n",
    "print(os.getcwd())"
   ]
  },
  {
   "cell_type": "code",
   "execution_count": 10,
   "id": "noticed-factor",
   "metadata": {},
   "outputs": [
    {
     "name": "stdout",
     "output_type": "stream",
     "text": [
      " Volume in drive C is Windows\n",
      " Volume Serial Number is 2628-209D\n",
      "\n",
      " Directory of C:\\Learning\\Python_Projects\\PySpark\n",
      "\n",
      "12-06-2021  18:19    <DIR>          .\n",
      "12-06-2021  18:19    <DIR>          ..\n",
      "09-05-2021  23:40    <DIR>          .ipynb_checkpoints\n",
      "20-11-2020  22:36       245,147,566 fire-incidents.csv\n",
      "12-06-2021  17:49    <DIR>          output\n",
      "09-05-2021  20:10            36,078 persons.json\n",
      "09-05-2021  22:37    <DIR>          spark-warehouse\n",
      "12-06-2021  18:19            25,970 StructuredAPI.ipynb\n",
      "10-06-2021  12:17            39,307 StructuredOperations.ipynb\n",
      "               4 File(s)    245,248,921 bytes\n",
      "               5 Dir(s)  44,720,635,904 bytes free\n"
     ]
    }
   ],
   "source": [
    "ls C:\\Learning\\Python_Projects\\PySpark"
   ]
  },
  {
   "cell_type": "code",
   "execution_count": 11,
   "id": "returning-waste",
   "metadata": {},
   "outputs": [],
   "source": [
    "filePath = \"./fire-incidents.csv\""
   ]
  },
  {
   "cell_type": "code",
   "execution_count": 12,
   "id": "floral-powell",
   "metadata": {},
   "outputs": [],
   "source": [
    "fire_incidents_df = (spark.read.format(\"csv\")\n",
    "                  .option(\"header\", True)\n",
    "                  .option(\"inferSchema\", True)\n",
    "                  .load(filePath))"
   ]
  },
  {
   "cell_type": "code",
   "execution_count": 13,
   "id": "russian-puppy",
   "metadata": {},
   "outputs": [
    {
     "name": "stdout",
     "output_type": "stream",
     "text": [
      "+--------------+--------------+---------+-----------------------+\n",
      "|IncidentNumber|ExposureNumber|ID       |ArrivalDtTm            |\n",
      "+--------------+--------------+---------+-----------------------+\n",
      "|20104668      |0             |201046680|2020-09-11T00:58:28.000|\n",
      "|20104708      |0             |201047080|2020-09-11T06:49:52.000|\n",
      "|20104648      |0             |201046480|2020-09-10T22:29:12.000|\n",
      "|20104598      |0             |201045980|2020-09-10T19:02:32.000|\n",
      "|20104575      |0             |201045750|2020-09-10T18:04:57.000|\n",
      "|20104477      |0             |201044770|2020-09-10T14:08:18.000|\n",
      "|20104443      |0             |201044430|2020-09-10T12:35:19.000|\n",
      "|20104605      |0             |201046050|2020-09-10T19:33:47.000|\n",
      "|20104474      |0             |201044740|2020-09-10T13:48:52.000|\n",
      "|20104652      |0             |201046520|2020-09-10T23:07:16.000|\n",
      "+--------------+--------------+---------+-----------------------+\n",
      "only showing top 10 rows\n",
      "\n"
     ]
    }
   ],
   "source": [
    "fire_incidents_df1 = fire_incidents_df.select(\"IncidentNumber\", \"ExposureNumber\", \"ID\", \"ArrivalDtTm\").show(10,truncate=False)"
   ]
  },
  {
   "cell_type": "code",
   "execution_count": 14,
   "id": "changing-graphic",
   "metadata": {},
   "outputs": [
    {
     "name": "stdout",
     "output_type": "stream",
     "text": [
      "root\n",
      " |-- IncidentNumber: string (nullable = true)\n",
      " |-- ExposureNumber: string (nullable = true)\n",
      " |-- ID: string (nullable = true)\n",
      " |-- Address: string (nullable = true)\n",
      " |-- IncidentDate: string (nullable = true)\n",
      " |-- CallNumber: string (nullable = true)\n",
      " |-- AlarmDtTm: string (nullable = true)\n",
      " |-- ArrivalDtTm: string (nullable = true)\n",
      " |-- CloseDtTm: string (nullable = true)\n",
      " |-- City: string (nullable = true)\n",
      " |-- ZIPCode: string (nullable = true)\n",
      " |-- Battalion: string (nullable = true)\n",
      " |-- StationArea: string (nullable = true)\n",
      " |-- Box: string (nullable = true)\n",
      " |-- SuppressionUnits: integer (nullable = true)\n",
      " |-- SuppressionPersonnel: integer (nullable = true)\n",
      " |-- EMSUnits: integer (nullable = true)\n",
      " |-- EMSPersonnel: integer (nullable = true)\n",
      " |-- OtherUnits: integer (nullable = true)\n",
      " |-- OtherPersonnel: integer (nullable = true)\n",
      " |-- FirstUnitOnScene: string (nullable = true)\n",
      " |-- EstimatedPropertyLoss: integer (nullable = true)\n",
      " |-- EstimatedContentsLoss: string (nullable = true)\n",
      " |-- FireFatalities: string (nullable = true)\n",
      " |-- FireInjuries: string (nullable = true)\n",
      " |-- CivilianFatalities: integer (nullable = true)\n",
      " |-- CivilianInjuries: integer (nullable = true)\n",
      " |-- NumberofAlarms: integer (nullable = true)\n",
      " |-- PrimarySituation: string (nullable = true)\n",
      " |-- MutualAid: string (nullable = true)\n",
      " |-- ActionTakenPrimary: string (nullable = true)\n",
      " |-- ActionTakenSecondary: string (nullable = true)\n",
      " |-- ActionTakenOther: string (nullable = true)\n",
      " |-- DetectorAlertedOccupants: string (nullable = true)\n",
      " |-- PropertyUse: string (nullable = true)\n",
      " |-- AreaofFireOrigin: string (nullable = true)\n",
      " |-- IgnitionCause: string (nullable = true)\n",
      " |-- IgnitionFactorPrimary: string (nullable = true)\n",
      " |-- IgnitionFactorSecondary: string (nullable = true)\n",
      " |-- HeatSource: string (nullable = true)\n",
      " |-- ItemFirstIgnited: string (nullable = true)\n",
      " |-- HumanFactorsAssociatedwithIgnition: string (nullable = true)\n",
      " |-- StructureType: string (nullable = true)\n",
      " |-- StructureStatus: string (nullable = true)\n",
      " |-- FloorofFireOrigin: integer (nullable = true)\n",
      " |-- FireSpread: string (nullable = true)\n",
      " |-- NoFlameSpead: string (nullable = true)\n",
      " |-- Numberoffloorswithminimumdamage: integer (nullable = true)\n",
      " |-- Numberoffloorswithsignificantdamage: integer (nullable = true)\n",
      " |-- Numberoffloorswithheavydamage: integer (nullable = true)\n",
      " |-- Numberoffloorswithextremedamage: integer (nullable = true)\n",
      " |-- DetectorsPresent: string (nullable = true)\n",
      " |-- DetectorType: string (nullable = true)\n",
      " |-- DetectorOperation: string (nullable = true)\n",
      " |-- DetectorEffectiveness: string (nullable = true)\n",
      " |-- DetectorFailureReason: string (nullable = true)\n",
      " |-- AutomaticExtinguishingSystemPresent: string (nullable = true)\n",
      " |-- AutomaticExtinguishingSytemType: string (nullable = true)\n",
      " |-- AutomaticExtinguishingSytemPerfomance: string (nullable = true)\n",
      " |-- AutomaticExtinguishingSytemFailureReason: string (nullable = true)\n",
      " |-- NumberofSprinklerHeadsOperating: integer (nullable = true)\n",
      " |-- SupervisorDistrict: integer (nullable = true)\n",
      " |-- AnalysisNeighborhood: string (nullable = true)\n",
      " |-- point: string (nullable = true)\n",
      " |-- NeighborhoodsOld: integer (nullable = true)\n",
      " |-- ZipCodes: integer (nullable = true)\n",
      " |-- FirePreventionDistricts: integer (nullable = true)\n",
      " |-- PoliceDistricts: integer (nullable = true)\n",
      " |-- SupervisorDistricts: integer (nullable = true)\n",
      " |-- CivicCenterHarmReductionProjectBoundary: integer (nullable = true)\n",
      " |-- 2017FixItZones: integer (nullable = true)\n",
      " |-- HSOCZones: integer (nullable = true)\n",
      " |-- CentralMarketTenderloinBoundary: integer (nullable = true)\n",
      " |-- CentralMarketTenderloinBoundaryPolygonUpdated: integer (nullable = true)\n",
      " |-- HSOCZonesasof20180605: integer (nullable = true)\n",
      " |-- Neighborhoods: integer (nullable = true)\n",
      " |-- SFFindNeighborhoods: integer (nullable = true)\n",
      " |-- CurrentPoliceDistricts: integer (nullable = true)\n",
      " |-- CurrentSupervisorDistricts: integer (nullable = true)\n",
      " |-- AnalysisNeighborhoods: integer (nullable = true)\n",
      "\n"
     ]
    }
   ],
   "source": [
    "fire_incidents_df.printSchema()"
   ]
  },
  {
   "cell_type": "code",
   "execution_count": 15,
   "id": "finnish-gasoline",
   "metadata": {},
   "outputs": [],
   "source": [
    "fire_incidents_timestamp_df = fire_incidents_df.withColumn(\"utc-time\", to_utc_timestamp(current_timestamp(),\"IST\"))"
   ]
  },
  {
   "cell_type": "code",
   "execution_count": 16,
   "id": "relevant-affiliate",
   "metadata": {},
   "outputs": [
    {
     "name": "stdout",
     "output_type": "stream",
     "text": [
      "+--------------+-----------------------+\n",
      "|IncidentNumber|utc-time               |\n",
      "+--------------+-----------------------+\n",
      "|20104668      |2021-06-13 12:57:19.561|\n",
      "|20104708      |2021-06-13 12:57:19.561|\n",
      "|20104648      |2021-06-13 12:57:19.561|\n",
      "|20104598      |2021-06-13 12:57:19.561|\n",
      "|20104575      |2021-06-13 12:57:19.561|\n",
      "|20104477      |2021-06-13 12:57:19.561|\n",
      "|20104443      |2021-06-13 12:57:19.561|\n",
      "|20104605      |2021-06-13 12:57:19.561|\n",
      "|20104474      |2021-06-13 12:57:19.561|\n",
      "|20104652      |2021-06-13 12:57:19.561|\n",
      "|20104499      |2021-06-13 12:57:19.561|\n",
      "|20104412      |2021-06-13 12:57:19.561|\n",
      "|20104356      |2021-06-13 12:57:19.561|\n",
      "|20104483      |2021-06-13 12:57:19.561|\n",
      "|20104639      |2021-06-13 12:57:19.561|\n",
      "|20104375      |2021-06-13 12:57:19.561|\n",
      "|20104467      |2021-06-13 12:57:19.561|\n",
      "|20104542      |2021-06-13 12:57:19.561|\n",
      "|20104359      |2021-06-13 12:57:19.561|\n",
      "|20104617      |2021-06-13 12:57:19.561|\n",
      "+--------------+-----------------------+\n",
      "only showing top 20 rows\n",
      "\n"
     ]
    }
   ],
   "source": [
    "fire_incidents_timestamp_df.select(\"IncidentNumber\",\"utc-time\").show(truncate=False)"
   ]
  },
  {
   "cell_type": "code",
   "execution_count": 17,
   "id": "chubby-video",
   "metadata": {},
   "outputs": [
    {
     "name": "stdout",
     "output_type": "stream",
     "text": [
      "+--------------+-----------------------+\n",
      "|IncidentNumber|utc-time               |\n",
      "+--------------+-----------------------+\n",
      "|20104668      |2021-06-13 12:57:19.757|\n",
      "|20104708      |2021-06-13 12:57:19.757|\n",
      "|20104648      |2021-06-13 12:57:19.757|\n",
      "|20104598      |2021-06-13 12:57:19.757|\n",
      "|20104575      |2021-06-13 12:57:19.757|\n",
      "|20104477      |2021-06-13 12:57:19.757|\n",
      "|20104443      |2021-06-13 12:57:19.757|\n",
      "|20104605      |2021-06-13 12:57:19.757|\n",
      "|20104474      |2021-06-13 12:57:19.757|\n",
      "|20104652      |2021-06-13 12:57:19.757|\n",
      "|20104499      |2021-06-13 12:57:19.757|\n",
      "|20104412      |2021-06-13 12:57:19.757|\n",
      "|20104356      |2021-06-13 12:57:19.757|\n",
      "|20104483      |2021-06-13 12:57:19.757|\n",
      "|20104639      |2021-06-13 12:57:19.757|\n",
      "|20104375      |2021-06-13 12:57:19.757|\n",
      "|20104467      |2021-06-13 12:57:19.757|\n",
      "|20104542      |2021-06-13 12:57:19.757|\n",
      "|20104359      |2021-06-13 12:57:19.757|\n",
      "|20104617      |2021-06-13 12:57:19.757|\n",
      "+--------------+-----------------------+\n",
      "only showing top 20 rows\n",
      "\n"
     ]
    }
   ],
   "source": [
    "fire_incidents_timestamp_df.select(\"IncidentNumber\",\"utc-time\").orderBy(\"utc-time\", ascending=False).show(truncate=False)"
   ]
  },
  {
   "cell_type": "code",
   "execution_count": 33,
   "id": "solar-placement",
   "metadata": {},
   "outputs": [
    {
     "name": "stdout",
     "output_type": "stream",
     "text": [
      "+-------+--------------------+\n",
      "|summary|SuppressionPersonnel|\n",
      "+-------+--------------------+\n",
      "|  count|              534853|\n",
      "|    min|                   0|\n",
      "|    max|                5960|\n",
      "+-------+--------------------+\n",
      "\n"
     ]
    }
   ],
   "source": [
    "fire_incidents_timestamp_df.select(\"SuppressionPersonnel\").summary(\"count\",\"min\",\"max\").show()"
   ]
  },
  {
   "cell_type": "code",
   "execution_count": 35,
   "id": "unable-biodiversity",
   "metadata": {},
   "outputs": [],
   "source": [
    "fire_incident_altered_schema = fire_incidents_timestamp_df.withColumn(\"IncidentNumberSchemaChange\", fire_incidents_timestamp_df['IncidentNumber']\n",
    "                                       .cast(IntegerType()))"
   ]
  },
  {
   "cell_type": "code",
   "execution_count": 40,
   "id": "matched-azerbaijan",
   "metadata": {},
   "outputs": [
    {
     "name": "stdout",
     "output_type": "stream",
     "text": [
      "+-------+--------------------------+\n",
      "|summary|IncidentNumberSchemaChange|\n",
      "+-------+--------------------------+\n",
      "|  count|                    534854|\n",
      "|    max|                  20104708|\n",
      "|    min|                   3000001|\n",
      "+-------+--------------------------+\n",
      "\n"
     ]
    }
   ],
   "source": [
    "fire_incident_altered_schema.select(\"IncidentNumberSchemaChange\").summary(\"count\",\"max\",\"min\").show()"
   ]
  },
  {
   "cell_type": "code",
   "execution_count": 54,
   "id": "proprietary-street",
   "metadata": {},
   "outputs": [
    {
     "name": "stdout",
     "output_type": "stream",
     "text": [
      "+-------+--------------------------+\n",
      "|summary|IncidentNumberSchemaChange|\n",
      "+-------+--------------------------+\n",
      "|count  |445788                    |\n",
      "|max    |20104708                  |\n",
      "|min    |6000005                   |\n",
      "+-------+--------------------------+\n",
      "\n"
     ]
    }
   ],
   "source": [
    "fire_incident_altered_schema.filter(fire_incident_altered_schema.IncidentNumberSchemaChange>6000001).\\\n",
    "                                select(\"IncidentNumberSchemaChange\").summary(\"count\",\"max\",\"min\").show(truncate=False)"
   ]
  },
  {
   "cell_type": "code",
   "execution_count": 58,
   "id": "recorded-miller",
   "metadata": {},
   "outputs": [
    {
     "name": "stdout",
     "output_type": "stream",
     "text": [
      "+---------+----------------------+-----------------------+\n",
      "|ID       |Address               |IncidentDate           |\n",
      "+---------+----------------------+-----------------------+\n",
      "|201046680|MARIPOSA STREET       |2020-09-11T00:00:00.000|\n",
      "|201047080|355 27TH STREET       |2020-09-11T00:00:00.000|\n",
      "|201046480|2048 POLK STREET      |2020-09-10T00:00:00.000|\n",
      "|201044770|75 DORE STREET        |2020-09-10T00:00:00.000|\n",
      "|201046520|758 JACKSON STREET    |2020-09-10T00:00:00.000|\n",
      "|201044990|3351 23RD STREET      |2020-09-10T00:00:00.000|\n",
      "|201044120|15TH STREET           |2020-09-10T00:00:00.000|\n",
      "|201043560|1401 MISSION STREET   |2020-09-10T00:00:00.000|\n",
      "|201044830|1629 TAYLOR STREET    |2020-09-10T00:00:00.000|\n",
      "|201046390|705 NATOMA STREET     |2020-09-10T00:00:00.000|\n",
      "|201043750|1715 MCALLISTER STREET|2020-09-10T00:00:00.000|\n",
      "|201044670|251-257 KEARNY STREET |2020-09-10T00:00:00.000|\n",
      "|201045420|125 3RD STREET        |2020-09-10T00:00:00.000|\n",
      "|201043600|1401 MISSION STREET   |2020-09-10T00:00:00.000|\n",
      "|201043340|1401 MISSION STREET   |2020-09-10T00:00:00.000|\n",
      "|201044530|270 LIBERTY STREET    |2020-09-10T00:00:00.000|\n",
      "|201046260|CESAR CHAVEZ STREET   |2020-09-10T00:00:00.000|\n",
      "|201045280|717 BATTERY STREET    |2020-09-10T00:00:00.000|\n",
      "|201043860|20 FRANKLIN STREET    |2020-09-10T00:00:00.000|\n",
      "|201044510|3481 PIERCE STREET    |2020-09-10T00:00:00.000|\n",
      "|201045790|KANSAS STREET         |2020-09-10T00:00:00.000|\n",
      "|201040940|17TH STREET           |2020-09-09T00:00:00.000|\n",
      "|201041410|45 PEARL STREET       |2020-09-09T00:00:00.000|\n",
      "|201040900|2ND STREET            |2020-09-09T00:00:00.000|\n",
      "|201041430|STILLMAN STREET       |2020-09-09T00:00:00.000|\n",
      "+---------+----------------------+-----------------------+\n",
      "only showing top 25 rows\n",
      "\n"
     ]
    }
   ],
   "source": [
    "fire_incident_altered_schema.select(\"ID\",\"Address\",\"IncidentDate\").\\\n",
    "where(fire_incident_altered_schema.Address.like(\"%STREET\")).\\\n",
    "show(25,False)"
   ]
  },
  {
   "cell_type": "code",
   "execution_count": 70,
   "id": "detailed-scope",
   "metadata": {},
   "outputs": [
    {
     "name": "stdout",
     "output_type": "stream",
     "text": [
      "+-------------------------+------------------------+\n",
      "|Address                  |substring(Address, 0, 5)|\n",
      "+-------------------------+------------------------+\n",
      "|MARIPOSA STREET          |MARIP                   |\n",
      "|355 27TH STREET          |355 2                   |\n",
      "|2048 POLK STREET         |2048                    |\n",
      "|501 COLLEGE AVENUE       |501 C                   |\n",
      "|289 9TH AVENUE           |289 9                   |\n",
      "|75 DORE STREET           |75 DO                   |\n",
      "|550 EL CAMINO DEL MAR    |550 E                   |\n",
      "|1107 GREAT HY            |1107                    |\n",
      "|902 CORBETT AVENUE       |902 C                   |\n",
      "|758 JACKSON STREET       |758 J                   |\n",
      "|3351 23RD STREET         |3351                    |\n",
      "|15TH STREET              |15TH                    |\n",
      "|1401 MISSION STREET      |1401                    |\n",
      "|1629 TAYLOR STREET       |1629                    |\n",
      "|705 NATOMA STREET        |705 N                   |\n",
      "|1715 MCALLISTER STREET   |1715                    |\n",
      "|251-257 KEARNY STREET    |251-2                   |\n",
      "|125 3RD STREET           |125 3                   |\n",
      "|490 SOUTH VAN NESS AVENUE|490 S                   |\n",
      "|515 BROADWAY             |515 B                   |\n",
      "|1401 MISSION STREET      |1401                    |\n",
      "|910 AVALON AVENUE        |910 A                   |\n",
      "|2900 ALEMANY BL          |2900                    |\n",
      "|520 SOUTH VAN NESS AVENUE|520 S                   |\n",
      "|1401 MISSION STREET      |1401                    |\n",
      "+-------------------------+------------------------+\n",
      "only showing top 25 rows\n",
      "\n"
     ]
    }
   ],
   "source": [
    "fire_incident_altered_schema.select(\"Address\",fire_incident_altered_schema.Address.substr(0,5)).\\\n",
    "show(25,False)"
   ]
  },
  {
   "cell_type": "code",
   "execution_count": 80,
   "id": "broadband-accuracy",
   "metadata": {},
   "outputs": [
    {
     "name": "stdout",
     "output_type": "stream",
     "text": [
      "+------------------+\n",
      "|           Address|\n",
      "+------------------+\n",
      "|   MARIPOSA STREET|\n",
      "|   355 27TH STREET|\n",
      "|  2048 POLK STREET|\n",
      "|    75 DORE STREET|\n",
      "|758 JACKSON STREET|\n",
      "+------------------+\n",
      "only showing top 5 rows\n",
      "\n"
     ]
    }
   ],
   "source": [
    "fire_incident_altered_schema.select(\"Address\").where(fire_incident_altered_schema.Address.like(\"%STREET\")).\\\n",
    "show(5)"
   ]
  },
  {
   "cell_type": "code",
   "execution_count": 84,
   "id": "monthly-lemon",
   "metadata": {},
   "outputs": [
    {
     "name": "stdout",
     "output_type": "stream",
     "text": [
      "+--------------+--------------+---------+------------------+-----------------------+\n",
      "|IncidentNumber|ExposureNumber|ID       |Address           |IncidentDate           |\n",
      "+--------------+--------------+---------+------------------+-----------------------+\n",
      "|20104668      |0             |201046680|MARIPOSA STREET   |2020-09-11T00:00:00.000|\n",
      "|20104708      |0             |201047080|355 27TH STREET   |2020-09-11T00:00:00.000|\n",
      "|20104648      |0             |201046480|2048 POLK STREET  |2020-09-10T00:00:00.000|\n",
      "|20104598      |0             |201045980|501 COLLEGE AVENUE|2020-09-10T00:00:00.000|\n",
      "|20104575      |0             |201045750|289 9TH AVENUE    |2020-09-10T00:00:00.000|\n",
      "+--------------+--------------+---------+------------------+-----------------------+\n",
      "only showing top 5 rows\n",
      "\n"
     ]
    }
   ],
   "source": [
    "new_df = fire_incident_altered_schema.columns[0:5]\n",
    "fire_incident_altered_schema.select(new_df).show(5,False)"
   ]
  },
  {
   "cell_type": "code",
   "execution_count": 18,
   "id": "ideal-forty",
   "metadata": {},
   "outputs": [],
   "source": [
    "ouput_path = \"./output/fire-incidents\"\n",
    "fire_incidents_df.write.format(\"parquet\").mode(\"overwrite\").save(ouput_path)"
   ]
  },
  {
   "cell_type": "code",
   "execution_count": 19,
   "id": "transsexual-consolidation",
   "metadata": {},
   "outputs": [
    {
     "name": "stdout",
     "output_type": "stream",
     "text": [
      "+--------------+---------------------+\n",
      "|IncidentNumber|Address              |\n",
      "+--------------+---------------------+\n",
      "|20104668      |MARIPOSA STREET      |\n",
      "|20104708      |355 27TH STREET      |\n",
      "|20104648      |2048 POLK STREET     |\n",
      "|20104598      |501 COLLEGE AVENUE   |\n",
      "|20104575      |289 9TH AVENUE       |\n",
      "|20104477      |75 DORE STREET       |\n",
      "|20104443      |550 EL CAMINO DEL MAR|\n",
      "|20104605      |1107 GREAT HY        |\n",
      "|20104474      |902 CORBETT AVENUE   |\n",
      "|20104652      |758 JACKSON STREET   |\n",
      "+--------------+---------------------+\n",
      "only showing top 10 rows\n",
      "\n"
     ]
    }
   ],
   "source": [
    "fire_incidents_df.select(\"IncidentNumber\",\"Address\").show(10, truncate=False)"
   ]
  },
  {
   "cell_type": "code",
   "execution_count": 20,
   "id": "tight-treasure",
   "metadata": {},
   "outputs": [
    {
     "name": "stdout",
     "output_type": "stream",
     "text": [
      "+--------------+----------------------+\n",
      "|IncidentNumber|Address Renamed Column|\n",
      "+--------------+----------------------+\n",
      "|20104668      |MARIPOSA STREET       |\n",
      "|20104708      |355 27TH STREET       |\n",
      "|20104648      |2048 POLK STREET      |\n",
      "|20104598      |501 COLLEGE AVENUE    |\n",
      "|20104575      |289 9TH AVENUE        |\n",
      "|20104477      |75 DORE STREET        |\n",
      "|20104443      |550 EL CAMINO DEL MAR |\n",
      "|20104605      |1107 GREAT HY         |\n",
      "|20104474      |902 CORBETT AVENUE    |\n",
      "|20104652      |758 JACKSON STREET    |\n",
      "+--------------+----------------------+\n",
      "only showing top 10 rows\n",
      "\n"
     ]
    }
   ],
   "source": [
    "fire_incidents_df.select(\"IncidentNumber\",\"Address\").withColumnRenamed(\"Address\", \"Address Renamed Column\").show(10, False)"
   ]
  },
  {
   "cell_type": "code",
   "execution_count": 21,
   "id": "marine-newport",
   "metadata": {},
   "outputs": [],
   "source": [
    "lst = [(\"Ram\",10,20),(\"Sai\",20,30),(\"Karthik\",30,40),(\"Ram\",10,20),(\"Karthik\",40,50)]"
   ]
  },
  {
   "cell_type": "code",
   "execution_count": 22,
   "id": "conscious-defendant",
   "metadata": {},
   "outputs": [],
   "source": [
    "lst_df = spark.createDataFrame(lst, [\"name\",\"id\",\"value\"])"
   ]
  },
  {
   "cell_type": "code",
   "execution_count": 23,
   "id": "formed-scroll",
   "metadata": {},
   "outputs": [
    {
     "name": "stdout",
     "output_type": "stream",
     "text": [
      "+-------+---+-----+\n",
      "|   name| id|value|\n",
      "+-------+---+-----+\n",
      "|    Ram| 10|   20|\n",
      "|    Sai| 20|   30|\n",
      "|Karthik| 30|   40|\n",
      "|    Ram| 10|   20|\n",
      "|Karthik| 40|   50|\n",
      "+-------+---+-----+\n",
      "\n"
     ]
    }
   ],
   "source": [
    "lst_df.show()"
   ]
  },
  {
   "cell_type": "code",
   "execution_count": 24,
   "id": "compound-malpractice",
   "metadata": {},
   "outputs": [],
   "source": [
    "lst_df_no_dups= lst_df.drop_duplicates().sort(\"name\",ascending=False)"
   ]
  },
  {
   "cell_type": "code",
   "execution_count": 25,
   "id": "radical-statement",
   "metadata": {},
   "outputs": [
    {
     "name": "stdout",
     "output_type": "stream",
     "text": [
      "+-------+---+-----+\n",
      "|   name| id|value|\n",
      "+-------+---+-----+\n",
      "|    Ram| 10|   20|\n",
      "|    Sai| 20|   30|\n",
      "|Karthik| 30|   40|\n",
      "|    Ram| 10|   20|\n",
      "|Karthik| 40|   50|\n",
      "+-------+---+-----+\n",
      "\n"
     ]
    }
   ],
   "source": [
    "lst_df.show()"
   ]
  },
  {
   "cell_type": "code",
   "execution_count": 26,
   "id": "owned-staff",
   "metadata": {},
   "outputs": [
    {
     "name": "stdout",
     "output_type": "stream",
     "text": [
      "+-------+---+-----+\n",
      "|   name| id|value|\n",
      "+-------+---+-----+\n",
      "|    Sai| 20|   30|\n",
      "|    Ram| 10|   20|\n",
      "|Karthik| 40|   50|\n",
      "|Karthik| 30|   40|\n",
      "+-------+---+-----+\n",
      "\n"
     ]
    }
   ],
   "source": [
    "lst_df_no_dups.show()"
   ]
  },
  {
   "cell_type": "code",
   "execution_count": null,
   "id": "mental-ready",
   "metadata": {},
   "outputs": [],
   "source": []
  },
  {
   "cell_type": "code",
   "execution_count": null,
   "id": "isolated-grounds",
   "metadata": {},
   "outputs": [],
   "source": []
  }
 ],
 "metadata": {
  "kernelspec": {
   "display_name": "Python 3",
   "language": "python",
   "name": "python3"
  },
  "language_info": {
   "codemirror_mode": {
    "name": "ipython",
    "version": 3
   },
   "file_extension": ".py",
   "mimetype": "text/x-python",
   "name": "python",
   "nbconvert_exporter": "python",
   "pygments_lexer": "ipython3",
   "version": "3.6.8"
  }
 },
 "nbformat": 4,
 "nbformat_minor": 5
}
