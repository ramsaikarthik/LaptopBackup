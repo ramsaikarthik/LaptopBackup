{
 "cells": [
  {
   "cell_type": "code",
   "execution_count": 59,
   "id": "voluntary-furniture",
   "metadata": {},
   "outputs": [],
   "source": [
    "import pyspark\n",
    "from pyspark.sql.functions import *\n",
    "from pyspark.sql import *\n",
    "from pyspark.sql.types import *"
   ]
  },
  {
   "cell_type": "code",
   "execution_count": 2,
   "id": "piano-knight",
   "metadata": {},
   "outputs": [],
   "source": [
    "spark = SparkSession.builder.appName(\"PySpark_Structured_API\").\\\n",
    "config(\"spark.driver.memory\",\"4g\").\\\n",
    "config(\"spark.executor.memory\",\"4g\").\\\n",
    "getOrCreate()\n"
   ]
  },
  {
   "cell_type": "code",
   "execution_count": 3,
   "id": "widespread-decimal",
   "metadata": {},
   "outputs": [],
   "source": [
    "path = \"./fire-incidents.csv\""
   ]
  },
  {
   "cell_type": "code",
   "execution_count": 4,
   "id": "ambient-plenty",
   "metadata": {},
   "outputs": [],
   "source": [
    "df = spark.read.csv(path,inferSchema=True,header=True)"
   ]
  },
  {
   "cell_type": "code",
   "execution_count": 5,
   "id": "owned-variance",
   "metadata": {},
   "outputs": [
    {
     "name": "stdout",
     "output_type": "stream",
     "text": [
      "+--------------+--------------+---------+------------------+-----------------------+\n",
      "|IncidentNumber|ExposureNumber|ID       |Address           |IncidentDate           |\n",
      "+--------------+--------------+---------+------------------+-----------------------+\n",
      "|20104668      |0             |201046680|MARIPOSA STREET   |2020-09-11T00:00:00.000|\n",
      "|20104708      |0             |201047080|355 27TH STREET   |2020-09-11T00:00:00.000|\n",
      "|20104648      |0             |201046480|2048 POLK STREET  |2020-09-10T00:00:00.000|\n",
      "|20104598      |0             |201045980|501 COLLEGE AVENUE|2020-09-10T00:00:00.000|\n",
      "|20104575      |0             |201045750|289 9TH AVENUE    |2020-09-10T00:00:00.000|\n",
      "+--------------+--------------+---------+------------------+-----------------------+\n",
      "only showing top 5 rows\n",
      "\n"
     ]
    }
   ],
   "source": [
    "df.select(df.columns[0:5]).show(5,False)"
   ]
  },
  {
   "cell_type": "code",
   "execution_count": 6,
   "id": "informed-ancient",
   "metadata": {},
   "outputs": [],
   "source": [
    "df.createOrReplaceTempView(\"TempView\")"
   ]
  },
  {
   "cell_type": "code",
   "execution_count": 7,
   "id": "disciplinary-recommendation",
   "metadata": {},
   "outputs": [],
   "source": [
    "df2 = spark.sql(\"select IncidentNumber, sum(ExposureNumber) as SUM, ExposureNumber from TempView group by ExposureNumber, IncidentNumber\")"
   ]
  },
  {
   "cell_type": "code",
   "execution_count": 8,
   "id": "guided-appointment",
   "metadata": {},
   "outputs": [
    {
     "name": "stdout",
     "output_type": "stream",
     "text": [
      "+--------------+---+--------------+\n",
      "|IncidentNumber|SUM|ExposureNumber|\n",
      "+--------------+---+--------------+\n",
      "|      20102931|0.0|             0|\n",
      "|      20102077|0.0|             0|\n",
      "|      20100748|0.0|             0|\n",
      "|      20098068|0.0|             0|\n",
      "|      20095954|0.0|             0|\n",
      "|      20094633|0.0|             0|\n",
      "|      20093944|0.0|             0|\n",
      "|      20093817|0.0|             0|\n",
      "|      20091571|0.0|             0|\n",
      "|      20091656|0.0|             0|\n",
      "|      20089559|0.0|             0|\n",
      "|      20087340|0.0|             0|\n",
      "|      20086284|0.0|             0|\n",
      "|      20066138|0.0|             0|\n",
      "|      20065892|0.0|             0|\n",
      "|      20066047|0.0|             0|\n",
      "|      20063273|0.0|             0|\n",
      "|      20062905|0.0|             0|\n",
      "|      20062468|0.0|             0|\n",
      "|      20062304|0.0|             0|\n",
      "|      20062035|0.0|             0|\n",
      "|      20060331|0.0|             0|\n",
      "|      20060197|0.0|             0|\n",
      "|      20058625|0.0|             0|\n",
      "|      20057532|0.0|             0|\n",
      "+--------------+---+--------------+\n",
      "only showing top 25 rows\n",
      "\n"
     ]
    }
   ],
   "source": [
    "df2.show(25)"
   ]
  },
  {
   "cell_type": "code",
   "execution_count": 9,
   "id": "historical-internet",
   "metadata": {},
   "outputs": [],
   "source": [
    "from pyspark.sql.types import *\n",
    "\n",
    "data = [('Ram',1),('Sai',2),('Karthik',3),('Ram',1),('Ram',2),('Sai',2),('Karthik', 2),('Sai',3)]\n",
    "\n",
    "dataTypes = StructType([StructField(\"Name\", StringType(), True),\n",
    "                      StructField(\"Id\", IntegerType(), True)])"
   ]
  },
  {
   "cell_type": "code",
   "execution_count": 10,
   "id": "relevant-glenn",
   "metadata": {},
   "outputs": [],
   "source": [
    "sparkDf = spark.createDataFrame(data, dataTypes)"
   ]
  },
  {
   "cell_type": "code",
   "execution_count": 11,
   "id": "seasonal-rouge",
   "metadata": {},
   "outputs": [
    {
     "name": "stdout",
     "output_type": "stream",
     "text": [
      "root\n",
      " |-- Name: string (nullable = true)\n",
      " |-- Id: integer (nullable = true)\n",
      "\n"
     ]
    }
   ],
   "source": [
    "sparkDf.printSchema()"
   ]
  },
  {
   "cell_type": "code",
   "execution_count": 12,
   "id": "assisted-interaction",
   "metadata": {},
   "outputs": [
    {
     "name": "stdout",
     "output_type": "stream",
     "text": [
      "+-------+---+\n",
      "|   Name| Id|\n",
      "+-------+---+\n",
      "|    Ram|  1|\n",
      "|    Sai|  2|\n",
      "|Karthik|  3|\n",
      "|    Ram|  1|\n",
      "|    Ram|  2|\n",
      "|    Sai|  2|\n",
      "|Karthik|  2|\n",
      "|    Sai|  3|\n",
      "+-------+---+\n",
      "\n"
     ]
    }
   ],
   "source": [
    "sparkDf.show()"
   ]
  },
  {
   "cell_type": "code",
   "execution_count": 13,
   "id": "synthetic-logging",
   "metadata": {},
   "outputs": [],
   "source": [
    "sparkDf.createOrReplaceTempView(\"TemporaryView\")"
   ]
  },
  {
   "cell_type": "code",
   "execution_count": 14,
   "id": "relative-helping",
   "metadata": {},
   "outputs": [
    {
     "name": "stdout",
     "output_type": "stream",
     "text": [
      "+-------+---+---+\n",
      "|   Name| Id|RNK|\n",
      "+-------+---+---+\n",
      "|Karthik|  2|  1|\n",
      "|Karthik|  3|  2|\n",
      "|    Ram|  1|  3|\n",
      "|    Ram|  1|  3|\n",
      "|    Ram|  2|  5|\n",
      "|    Sai|  2|  6|\n",
      "|    Sai|  2|  6|\n",
      "|    Sai|  3|  8|\n",
      "+-------+---+---+\n",
      "\n"
     ]
    }
   ],
   "source": [
    "spark.sql(\"select Name, Id, Rank() over(order by Name, Id) as RNK from TemporaryView\").show()"
   ]
  },
  {
   "cell_type": "code",
   "execution_count": 15,
   "id": "stainless-thomas",
   "metadata": {},
   "outputs": [],
   "source": [
    "rank_functions_df = spark.sql(\"select Name, Id, ROW_NUMBER() OVER(order by Name, Id) as RN, Rank()\\\n",
    "over(order by Name, Id) as RNK, DENSE_RANK() OVER(order by Name, Id) as DN from TemporaryView\")"
   ]
  },
  {
   "cell_type": "code",
   "execution_count": 16,
   "id": "constant-exercise",
   "metadata": {},
   "outputs": [
    {
     "name": "stdout",
     "output_type": "stream",
     "text": [
      "+-------+---+---+---+---+\n",
      "|   Name| Id| RN|RNK| DN|\n",
      "+-------+---+---+---+---+\n",
      "|Karthik|  2|  1|  1|  1|\n",
      "|Karthik|  3|  2|  2|  2|\n",
      "|    Ram|  1|  3|  3|  3|\n",
      "|    Ram|  1|  4|  3|  3|\n",
      "|    Ram|  2|  5|  5|  4|\n",
      "|    Sai|  2|  6|  6|  5|\n",
      "|    Sai|  2|  7|  6|  5|\n",
      "|    Sai|  3|  8|  8|  6|\n",
      "+-------+---+---+---+---+\n",
      "\n"
     ]
    }
   ],
   "source": [
    "rank_functions_df.show()"
   ]
  },
  {
   "cell_type": "code",
   "execution_count": 17,
   "id": "beginning-ethnic",
   "metadata": {},
   "outputs": [
    {
     "name": "stdout",
     "output_type": "stream",
     "text": [
      "+-------+---+---+---+---+\n",
      "|   Name| Id| RN|RNK| DN|\n",
      "+-------+---+---+---+---+\n",
      "|Karthik|  2|  1|  1|  1|\n",
      "|Karthik|  3|  2|  2|  2|\n",
      "|    Ram|  1|  3|  3|  3|\n",
      "|    Ram|  2|  5|  5|  4|\n",
      "|    Sai|  2|  6|  6|  5|\n",
      "|    Sai|  3|  8|  8|  6|\n",
      "+-------+---+---+---+---+\n",
      "\n"
     ]
    }
   ],
   "source": [
    "rank_functions_df.dropDuplicates([\"Name\",\"Id\"]).show()"
   ]
  },
  {
   "cell_type": "code",
   "execution_count": 18,
   "id": "noticed-intellectual",
   "metadata": {},
   "outputs": [],
   "source": [
    "from pyspark.sql.functions import expr"
   ]
  },
  {
   "cell_type": "markdown",
   "id": "tamil-isaac",
   "metadata": {},
   "source": [
    "# Search and Filter DataFrames HW"
   ]
  },
  {
   "cell_type": "code",
   "execution_count": 19,
   "id": "suffering-highland",
   "metadata": {},
   "outputs": [],
   "source": [
    "from pyspark.sql.functions import *\n",
    "from pyspark.sql import *"
   ]
  },
  {
   "cell_type": "code",
   "execution_count": 24,
   "id": "fresh-makeup",
   "metadata": {},
   "outputs": [],
   "source": [
    "filePath = \"C:\\Learning\\Python_Projects\\PySpark\\\\fifa19.csv\""
   ]
  },
  {
   "cell_type": "code",
   "execution_count": 25,
   "id": "acting-proceeding",
   "metadata": {},
   "outputs": [],
   "source": [
    "dataFrame = spark.read.csv(filePath, inferSchema=True, header=True)"
   ]
  },
  {
   "cell_type": "code",
   "execution_count": 26,
   "id": "individual-calvin",
   "metadata": {},
   "outputs": [
    {
     "name": "stdout",
     "output_type": "stream",
     "text": [
      "root\n",
      " |-- _c0: integer (nullable = true)\n",
      " |-- ID: integer (nullable = true)\n",
      " |-- Name: string (nullable = true)\n",
      " |-- Age: integer (nullable = true)\n",
      " |-- Photo: string (nullable = true)\n",
      " |-- Nationality: string (nullable = true)\n",
      " |-- Flag: string (nullable = true)\n",
      " |-- Overall: integer (nullable = true)\n",
      " |-- Potential: integer (nullable = true)\n",
      " |-- Club: string (nullable = true)\n",
      " |-- Club Logo: string (nullable = true)\n",
      " |-- Value: string (nullable = true)\n",
      " |-- Wage: string (nullable = true)\n",
      " |-- Special: integer (nullable = true)\n",
      " |-- Preferred Foot: string (nullable = true)\n",
      " |-- International Reputation: integer (nullable = true)\n",
      " |-- Weak Foot: integer (nullable = true)\n",
      " |-- Skill Moves: integer (nullable = true)\n",
      " |-- Work Rate: string (nullable = true)\n",
      " |-- Body Type: string (nullable = true)\n",
      " |-- Real Face: string (nullable = true)\n",
      " |-- Position: string (nullable = true)\n",
      " |-- Jersey Number: integer (nullable = true)\n",
      " |-- Joined: string (nullable = true)\n",
      " |-- Loaned From: string (nullable = true)\n",
      " |-- Contract Valid Until: string (nullable = true)\n",
      " |-- Height: string (nullable = true)\n",
      " |-- Weight: string (nullable = true)\n",
      " |-- LS: string (nullable = true)\n",
      " |-- ST: string (nullable = true)\n",
      " |-- RS: string (nullable = true)\n",
      " |-- LW: string (nullable = true)\n",
      " |-- LF: string (nullable = true)\n",
      " |-- CF: string (nullable = true)\n",
      " |-- RF: string (nullable = true)\n",
      " |-- RW: string (nullable = true)\n",
      " |-- LAM: string (nullable = true)\n",
      " |-- CAM: string (nullable = true)\n",
      " |-- RAM: string (nullable = true)\n",
      " |-- LM: string (nullable = true)\n",
      " |-- LCM: string (nullable = true)\n",
      " |-- CM: string (nullable = true)\n",
      " |-- RCM: string (nullable = true)\n",
      " |-- RM: string (nullable = true)\n",
      " |-- LWB: string (nullable = true)\n",
      " |-- LDM: string (nullable = true)\n",
      " |-- CDM: string (nullable = true)\n",
      " |-- RDM: string (nullable = true)\n",
      " |-- RWB: string (nullable = true)\n",
      " |-- LB: string (nullable = true)\n",
      " |-- LCB: string (nullable = true)\n",
      " |-- CB: string (nullable = true)\n",
      " |-- RCB: string (nullable = true)\n",
      " |-- RB: string (nullable = true)\n",
      " |-- Crossing: integer (nullable = true)\n",
      " |-- Finishing: integer (nullable = true)\n",
      " |-- HeadingAccuracy: integer (nullable = true)\n",
      " |-- ShortPassing: integer (nullable = true)\n",
      " |-- Volleys: integer (nullable = true)\n",
      " |-- Dribbling: integer (nullable = true)\n",
      " |-- Curve: integer (nullable = true)\n",
      " |-- FKAccuracy: integer (nullable = true)\n",
      " |-- LongPassing: integer (nullable = true)\n",
      " |-- BallControl: integer (nullable = true)\n",
      " |-- Acceleration: integer (nullable = true)\n",
      " |-- SprintSpeed: integer (nullable = true)\n",
      " |-- Agility: integer (nullable = true)\n",
      " |-- Reactions: integer (nullable = true)\n",
      " |-- Balance: integer (nullable = true)\n",
      " |-- ShotPower: integer (nullable = true)\n",
      " |-- Jumping: integer (nullable = true)\n",
      " |-- Stamina: integer (nullable = true)\n",
      " |-- Strength: integer (nullable = true)\n",
      " |-- LongShots: integer (nullable = true)\n",
      " |-- Aggression: integer (nullable = true)\n",
      " |-- Interceptions: integer (nullable = true)\n",
      " |-- Positioning: integer (nullable = true)\n",
      " |-- Vision: integer (nullable = true)\n",
      " |-- Penalties: integer (nullable = true)\n",
      " |-- Composure: integer (nullable = true)\n",
      " |-- Marking: integer (nullable = true)\n",
      " |-- StandingTackle: integer (nullable = true)\n",
      " |-- SlidingTackle: integer (nullable = true)\n",
      " |-- GKDiving: integer (nullable = true)\n",
      " |-- GKHandling: integer (nullable = true)\n",
      " |-- GKKicking: integer (nullable = true)\n",
      " |-- GKPositioning: integer (nullable = true)\n",
      " |-- GKReflexes: integer (nullable = true)\n",
      " |-- Release Clause: string (nullable = true)\n",
      "\n"
     ]
    }
   ],
   "source": [
    "dataFrame.printSchema()"
   ]
  },
  {
   "cell_type": "code",
   "execution_count": 27,
   "id": "vocal-gasoline",
   "metadata": {},
   "outputs": [
    {
     "name": "stdout",
     "output_type": "stream",
     "text": [
      "+---+------+-----------------+---+----------------------------------------------+-----------+-----------------------------------+-------+---------+-------------------+--------------------------------------------+-------+-----+-------+--------------+------------------------+---------+-----------+--------------+----------+---------+--------+-------------+------------+-----------+--------------------+------+------+----+----+----+----+----+----+----+----+----+----+----+----+----+----+----+----+----+----+----+----+----+----+----+----+----+----+--------+---------+---------------+------------+-------+---------+-----+----------+-----------+-----------+------------+-----------+-------+---------+-------+---------+-------+-------+--------+---------+----------+-------------+-----------+------+---------+---------+-------+--------------+-------------+--------+----------+---------+-------------+----------+--------------+\n",
      "|_c0|ID    |Name             |Age|Photo                                         |Nationality|Flag                               |Overall|Potential|Club               |Club Logo                                   |Value  |Wage |Special|Preferred Foot|International Reputation|Weak Foot|Skill Moves|Work Rate     |Body Type |Real Face|Position|Jersey Number|Joined      |Loaned From|Contract Valid Until|Height|Weight|LS  |ST  |RS  |LW  |LF  |CF  |RF  |RW  |LAM |CAM |RAM |LM  |LCM |CM  |RCM |RM  |LWB |LDM |CDM |RDM |RWB |LB  |LCB |CB  |RCB |RB  |Crossing|Finishing|HeadingAccuracy|ShortPassing|Volleys|Dribbling|Curve|FKAccuracy|LongPassing|BallControl|Acceleration|SprintSpeed|Agility|Reactions|Balance|ShotPower|Jumping|Stamina|Strength|LongShots|Aggression|Interceptions|Positioning|Vision|Penalties|Composure|Marking|StandingTackle|SlidingTackle|GKDiving|GKHandling|GKKicking|GKPositioning|GKReflexes|Release Clause|\n",
      "+---+------+-----------------+---+----------------------------------------------+-----------+-----------------------------------+-------+---------+-------------------+--------------------------------------------+-------+-----+-------+--------------+------------------------+---------+-----------+--------------+----------+---------+--------+-------------+------------+-----------+--------------------+------+------+----+----+----+----+----+----+----+----+----+----+----+----+----+----+----+----+----+----+----+----+----+----+----+----+----+----+--------+---------+---------------+------------+-------+---------+-----+----------+-----------+-----------+------------+-----------+-------+---------+-------+---------+-------+-------+--------+---------+----------+-------------+-----------+------+---------+---------+-------+--------------+-------------+--------+----------+---------+-------------+----------+--------------+\n",
      "|0  |158023|L. Messi         |31 |https://cdn.sofifa.org/players/4/19/158023.png|Argentina  |https://cdn.sofifa.org/flags/52.png|94     |94       |FC Barcelona       |https://cdn.sofifa.org/teams/2/light/241.png|€110.5M|€565K|2202   |Left          |5                       |4        |4          |Medium/ Medium|Messi     |Yes      |RF      |10           |Jul 1, 2004 |null       |2021                |5'7   |159lbs|88+2|88+2|88+2|92+2|93+2|93+2|93+2|92+2|93+2|93+2|93+2|91+2|84+2|84+2|84+2|91+2|64+2|61+2|61+2|61+2|64+2|59+2|47+2|47+2|47+2|59+2|84      |95       |70             |90          |86     |97       |93   |94        |87         |96         |91          |86         |91     |95       |95     |85       |68     |72     |59      |94       |48        |22           |94         |94    |75       |96       |33     |28            |26           |6       |11        |15       |14           |8         |€226.5M       |\n",
      "|1  |20801 |Cristiano Ronaldo|33 |https://cdn.sofifa.org/players/4/19/20801.png |Portugal   |https://cdn.sofifa.org/flags/38.png|94     |94       |Juventus           |https://cdn.sofifa.org/teams/2/light/45.png |€77M   |€405K|2228   |Right         |5                       |4        |5          |High/ Low     |C. Ronaldo|Yes      |ST      |7            |Jul 10, 2018|null       |2022                |6'2   |183lbs|91+3|91+3|91+3|89+3|90+3|90+3|90+3|89+3|88+3|88+3|88+3|88+3|81+3|81+3|81+3|88+3|65+3|61+3|61+3|61+3|65+3|61+3|53+3|53+3|53+3|61+3|84      |94       |89             |81          |87     |88       |81   |76        |77         |94         |89          |91         |87     |96       |70     |95       |95     |88     |79      |93       |63        |29           |95         |82    |85       |95       |28     |31            |23           |7       |11        |15       |14           |11        |€127.1M       |\n",
      "|2  |190871|Neymar Jr        |26 |https://cdn.sofifa.org/players/4/19/190871.png|Brazil     |https://cdn.sofifa.org/flags/54.png|92     |93       |Paris Saint-Germain|https://cdn.sofifa.org/teams/2/light/73.png |€118.5M|€290K|2143   |Right         |5                       |5        |5          |High/ Medium  |Neymar    |Yes      |LW      |10           |Aug 3, 2017 |null       |2022                |5'9   |150lbs|84+3|84+3|84+3|89+3|89+3|89+3|89+3|89+3|89+3|89+3|89+3|88+3|81+3|81+3|81+3|88+3|65+3|60+3|60+3|60+3|65+3|60+3|47+3|47+3|47+3|60+3|79      |87       |62             |84          |84     |96       |88   |87        |78         |95         |94          |90         |96     |94       |84     |80       |61     |81     |49      |82       |56        |36           |89         |87    |81       |94       |27     |24            |33           |9       |9         |15       |15           |11        |€228.1M       |\n",
      "|3  |193080|De Gea           |27 |https://cdn.sofifa.org/players/4/19/193080.png|Spain      |https://cdn.sofifa.org/flags/45.png|91     |93       |Manchester United  |https://cdn.sofifa.org/teams/2/light/11.png |€72M   |€260K|1471   |Right         |4                       |3        |1          |Medium/ Medium|Lean      |Yes      |GK      |1            |Jul 1, 2011 |null       |2020                |6'4   |168lbs|null|null|null|null|null|null|null|null|null|null|null|null|null|null|null|null|null|null|null|null|null|null|null|null|null|null|17      |13       |21             |50          |13     |18       |21   |19        |51         |42         |57          |58         |60     |90       |43     |31       |67     |43     |64      |12       |38        |30           |12         |68    |40       |68       |15     |21            |13           |90      |85        |87       |88           |94        |€138.6M       |\n",
      "|4  |192985|K. De Bruyne     |27 |https://cdn.sofifa.org/players/4/19/192985.png|Belgium    |https://cdn.sofifa.org/flags/7.png |91     |92       |Manchester City    |https://cdn.sofifa.org/teams/2/light/10.png |€102M  |€355K|2281   |Right         |4                       |5        |4          |High/ High    |Normal    |Yes      |RCM     |7            |Aug 30, 2015|null       |2023                |5'11  |154lbs|82+3|82+3|82+3|87+3|87+3|87+3|87+3|87+3|88+3|88+3|88+3|88+3|87+3|87+3|87+3|88+3|77+3|77+3|77+3|77+3|77+3|73+3|66+3|66+3|66+3|73+3|93      |82       |55             |92          |82     |86       |85   |83        |91         |91         |78          |76         |79     |91       |77     |91       |63     |90     |75      |91       |76        |61           |87         |94    |79       |88       |68     |58            |51           |15      |13        |5        |10           |13        |€196.4M       |\n",
      "+---+------+-----------------+---+----------------------------------------------+-----------+-----------------------------------+-------+---------+-------------------+--------------------------------------------+-------+-----+-------+--------------+------------------------+---------+-----------+--------------+----------+---------+--------+-------------+------------+-----------+--------------------+------+------+----+----+----+----+----+----+----+----+----+----+----+----+----+----+----+----+----+----+----+----+----+----+----+----+----+----+--------+---------+---------------+------------+-------+---------+-----+----------+-----------+-----------+------------+-----------+-------+---------+-------+---------+-------+-------+--------+---------+----------+-------------+-----------+------+---------+---------+-------+--------------+-------------+--------+----------+---------+-------------+----------+--------------+\n",
      "only showing top 5 rows\n",
      "\n"
     ]
    }
   ],
   "source": [
    "dataFrame.show(5,False)"
   ]
  },
  {
   "cell_type": "code",
   "execution_count": 30,
   "id": "increased-separation",
   "metadata": {},
   "outputs": [
    {
     "data": {
      "text/html": [
       "<div>\n",
       "<style scoped>\n",
       "    .dataframe tbody tr th:only-of-type {\n",
       "        vertical-align: middle;\n",
       "    }\n",
       "\n",
       "    .dataframe tbody tr th {\n",
       "        vertical-align: top;\n",
       "    }\n",
       "\n",
       "    .dataframe thead th {\n",
       "        text-align: right;\n",
       "    }\n",
       "</style>\n",
       "<table border=\"1\" class=\"dataframe\">\n",
       "  <thead>\n",
       "    <tr style=\"text-align: right;\">\n",
       "      <th></th>\n",
       "      <th>_c0</th>\n",
       "      <th>ID</th>\n",
       "      <th>Name</th>\n",
       "      <th>Age</th>\n",
       "      <th>Photo</th>\n",
       "      <th>Nationality</th>\n",
       "      <th>Flag</th>\n",
       "      <th>Overall</th>\n",
       "      <th>Potential</th>\n",
       "      <th>Club</th>\n",
       "      <th>...</th>\n",
       "      <th>Composure</th>\n",
       "      <th>Marking</th>\n",
       "      <th>StandingTackle</th>\n",
       "      <th>SlidingTackle</th>\n",
       "      <th>GKDiving</th>\n",
       "      <th>GKHandling</th>\n",
       "      <th>GKKicking</th>\n",
       "      <th>GKPositioning</th>\n",
       "      <th>GKReflexes</th>\n",
       "      <th>Release Clause</th>\n",
       "    </tr>\n",
       "  </thead>\n",
       "  <tbody>\n",
       "    <tr>\n",
       "      <th>0</th>\n",
       "      <td>0</td>\n",
       "      <td>158023</td>\n",
       "      <td>L. Messi</td>\n",
       "      <td>31</td>\n",
       "      <td>https://cdn.sofifa.org/players/4/19/158023.png</td>\n",
       "      <td>Argentina</td>\n",
       "      <td>https://cdn.sofifa.org/flags/52.png</td>\n",
       "      <td>94</td>\n",
       "      <td>94</td>\n",
       "      <td>FC Barcelona</td>\n",
       "      <td>...</td>\n",
       "      <td>96</td>\n",
       "      <td>33</td>\n",
       "      <td>28</td>\n",
       "      <td>26</td>\n",
       "      <td>6</td>\n",
       "      <td>11</td>\n",
       "      <td>15</td>\n",
       "      <td>14</td>\n",
       "      <td>8</td>\n",
       "      <td>€226.5M</td>\n",
       "    </tr>\n",
       "    <tr>\n",
       "      <th>1</th>\n",
       "      <td>1</td>\n",
       "      <td>20801</td>\n",
       "      <td>Cristiano Ronaldo</td>\n",
       "      <td>33</td>\n",
       "      <td>https://cdn.sofifa.org/players/4/19/20801.png</td>\n",
       "      <td>Portugal</td>\n",
       "      <td>https://cdn.sofifa.org/flags/38.png</td>\n",
       "      <td>94</td>\n",
       "      <td>94</td>\n",
       "      <td>Juventus</td>\n",
       "      <td>...</td>\n",
       "      <td>95</td>\n",
       "      <td>28</td>\n",
       "      <td>31</td>\n",
       "      <td>23</td>\n",
       "      <td>7</td>\n",
       "      <td>11</td>\n",
       "      <td>15</td>\n",
       "      <td>14</td>\n",
       "      <td>11</td>\n",
       "      <td>€127.1M</td>\n",
       "    </tr>\n",
       "    <tr>\n",
       "      <th>2</th>\n",
       "      <td>2</td>\n",
       "      <td>190871</td>\n",
       "      <td>Neymar Jr</td>\n",
       "      <td>26</td>\n",
       "      <td>https://cdn.sofifa.org/players/4/19/190871.png</td>\n",
       "      <td>Brazil</td>\n",
       "      <td>https://cdn.sofifa.org/flags/54.png</td>\n",
       "      <td>92</td>\n",
       "      <td>93</td>\n",
       "      <td>Paris Saint-Germain</td>\n",
       "      <td>...</td>\n",
       "      <td>94</td>\n",
       "      <td>27</td>\n",
       "      <td>24</td>\n",
       "      <td>33</td>\n",
       "      <td>9</td>\n",
       "      <td>9</td>\n",
       "      <td>15</td>\n",
       "      <td>15</td>\n",
       "      <td>11</td>\n",
       "      <td>€228.1M</td>\n",
       "    </tr>\n",
       "    <tr>\n",
       "      <th>3</th>\n",
       "      <td>3</td>\n",
       "      <td>193080</td>\n",
       "      <td>De Gea</td>\n",
       "      <td>27</td>\n",
       "      <td>https://cdn.sofifa.org/players/4/19/193080.png</td>\n",
       "      <td>Spain</td>\n",
       "      <td>https://cdn.sofifa.org/flags/45.png</td>\n",
       "      <td>91</td>\n",
       "      <td>93</td>\n",
       "      <td>Manchester United</td>\n",
       "      <td>...</td>\n",
       "      <td>68</td>\n",
       "      <td>15</td>\n",
       "      <td>21</td>\n",
       "      <td>13</td>\n",
       "      <td>90</td>\n",
       "      <td>85</td>\n",
       "      <td>87</td>\n",
       "      <td>88</td>\n",
       "      <td>94</td>\n",
       "      <td>€138.6M</td>\n",
       "    </tr>\n",
       "    <tr>\n",
       "      <th>4</th>\n",
       "      <td>4</td>\n",
       "      <td>192985</td>\n",
       "      <td>K. De Bruyne</td>\n",
       "      <td>27</td>\n",
       "      <td>https://cdn.sofifa.org/players/4/19/192985.png</td>\n",
       "      <td>Belgium</td>\n",
       "      <td>https://cdn.sofifa.org/flags/7.png</td>\n",
       "      <td>91</td>\n",
       "      <td>92</td>\n",
       "      <td>Manchester City</td>\n",
       "      <td>...</td>\n",
       "      <td>88</td>\n",
       "      <td>68</td>\n",
       "      <td>58</td>\n",
       "      <td>51</td>\n",
       "      <td>15</td>\n",
       "      <td>13</td>\n",
       "      <td>5</td>\n",
       "      <td>10</td>\n",
       "      <td>13</td>\n",
       "      <td>€196.4M</td>\n",
       "    </tr>\n",
       "  </tbody>\n",
       "</table>\n",
       "<p>5 rows × 89 columns</p>\n",
       "</div>"
      ],
      "text/plain": [
       "   _c0      ID               Name  Age  \\\n",
       "0    0  158023           L. Messi   31   \n",
       "1    1   20801  Cristiano Ronaldo   33   \n",
       "2    2  190871          Neymar Jr   26   \n",
       "3    3  193080             De Gea   27   \n",
       "4    4  192985       K. De Bruyne   27   \n",
       "\n",
       "                                            Photo Nationality  \\\n",
       "0  https://cdn.sofifa.org/players/4/19/158023.png   Argentina   \n",
       "1   https://cdn.sofifa.org/players/4/19/20801.png    Portugal   \n",
       "2  https://cdn.sofifa.org/players/4/19/190871.png      Brazil   \n",
       "3  https://cdn.sofifa.org/players/4/19/193080.png       Spain   \n",
       "4  https://cdn.sofifa.org/players/4/19/192985.png     Belgium   \n",
       "\n",
       "                                  Flag  Overall  Potential  \\\n",
       "0  https://cdn.sofifa.org/flags/52.png       94         94   \n",
       "1  https://cdn.sofifa.org/flags/38.png       94         94   \n",
       "2  https://cdn.sofifa.org/flags/54.png       92         93   \n",
       "3  https://cdn.sofifa.org/flags/45.png       91         93   \n",
       "4   https://cdn.sofifa.org/flags/7.png       91         92   \n",
       "\n",
       "                  Club  ... Composure Marking StandingTackle  SlidingTackle  \\\n",
       "0         FC Barcelona  ...        96      33             28             26   \n",
       "1             Juventus  ...        95      28             31             23   \n",
       "2  Paris Saint-Germain  ...        94      27             24             33   \n",
       "3    Manchester United  ...        68      15             21             13   \n",
       "4      Manchester City  ...        88      68             58             51   \n",
       "\n",
       "  GKDiving  GKHandling  GKKicking  GKPositioning GKReflexes Release Clause  \n",
       "0        6          11         15             14          8        €226.5M  \n",
       "1        7          11         15             14         11        €127.1M  \n",
       "2        9           9         15             15         11        €228.1M  \n",
       "3       90          85         87             88         94        €138.6M  \n",
       "4       15          13          5             10         13        €196.4M  \n",
       "\n",
       "[5 rows x 89 columns]"
      ]
     },
     "execution_count": 30,
     "metadata": {},
     "output_type": "execute_result"
    }
   ],
   "source": [
    "dataFrame.limit(5).toPandas()"
   ]
  },
  {
   "cell_type": "code",
   "execution_count": 35,
   "id": "prompt-census",
   "metadata": {},
   "outputs": [
    {
     "name": "stdout",
     "output_type": "stream",
     "text": [
      "+-------------+--------+\n",
      "|Name         |Position|\n",
      "+-------------+--------+\n",
      "|A. Abang     |ST      |\n",
      "|A. Abdellaoui|LB      |\n",
      "|A. Abdennour |CB      |\n",
      "|A. Abdi      |CM      |\n",
      "|A. Abdu Jaber|ST      |\n",
      "+-------------+--------+\n",
      "only showing top 5 rows\n",
      "\n"
     ]
    }
   ],
   "source": [
    "dataFrame.select(\"Name\",\"Position\").sort(\"Name\").show(5,False)"
   ]
  },
  {
   "cell_type": "code",
   "execution_count": 38,
   "id": "pleasant-complex",
   "metadata": {},
   "outputs": [
    {
     "name": "stdout",
     "output_type": "stream",
     "text": [
      "+--------------+--------+\n",
      "|Name          |Position|\n",
      "+--------------+--------+\n",
      "|Óscar Whalley |GK      |\n",
      "|Óscar Valentín|CDM     |\n",
      "|Óscar Plano   |LM      |\n",
      "|Óscar Pinchi  |LM      |\n",
      "|Óscar Gil     |RB      |\n",
      "+--------------+--------+\n",
      "only showing top 5 rows\n",
      "\n"
     ]
    }
   ],
   "source": [
    "dataFrame.select(\"Name\",\"Position\").orderBy(dataFrame.Name.desc()).show(5,False)"
   ]
  },
  {
   "cell_type": "code",
   "execution_count": 39,
   "id": "reverse-upgrade",
   "metadata": {},
   "outputs": [
    {
     "name": "stdout",
     "output_type": "stream",
     "text": [
      "+--------------+--------+\n",
      "|Name          |Position|\n",
      "+--------------+--------+\n",
      "|Óscar Whalley |GK      |\n",
      "|Óscar Valentín|CDM     |\n",
      "|Óscar Plano   |LM      |\n",
      "|Óscar Pinchi  |LM      |\n",
      "|Óscar Gil     |RB      |\n",
      "+--------------+--------+\n",
      "only showing top 5 rows\n",
      "\n"
     ]
    }
   ],
   "source": [
    "dataFrame.select(\"Name\",\"Position\").sort(dataFrame.Name.desc()).show(5,False)"
   ]
  },
  {
   "cell_type": "code",
   "execution_count": 40,
   "id": "extended-perry",
   "metadata": {},
   "outputs": [
    {
     "name": "stdout",
     "output_type": "stream",
     "text": [
      "+-------------+--------+\n",
      "|Name         |Position|\n",
      "+-------------+--------+\n",
      "|A. Abang     |ST      |\n",
      "|A. Abdellaoui|LB      |\n",
      "|A. Abdennour |CB      |\n",
      "|A. Abdi      |CM      |\n",
      "|A. Abdu Jaber|ST      |\n",
      "+-------------+--------+\n",
      "only showing top 5 rows\n",
      "\n"
     ]
    }
   ],
   "source": [
    "dataFrame.select(\"Name\",\"Position\").orderBy(dataFrame.Name.asc()).show(5,False)"
   ]
  },
  {
   "cell_type": "code",
   "execution_count": 41,
   "id": "international-adams",
   "metadata": {},
   "outputs": [
    {
     "name": "stdout",
     "output_type": "stream",
     "text": [
      "+---------------+-----------------+\n",
      "|Name           |Club             |\n",
      "+---------------+-----------------+\n",
      "|L. Messi       |FC Barcelona     |\n",
      "|L. Suárez      |FC Barcelona     |\n",
      "|R. Lewandowski |FC Bayern München|\n",
      "|M. ter Stegen  |FC Barcelona     |\n",
      "|Sergio Busquets|FC Barcelona     |\n",
      "+---------------+-----------------+\n",
      "only showing top 5 rows\n",
      "\n"
     ]
    }
   ],
   "source": [
    "dataFrame.select(\"Name\",\"Club\").where(dataFrame.Club.startswith(\"FC\")).show(5,False)"
   ]
  },
  {
   "cell_type": "code",
   "execution_count": 43,
   "id": "private-cause",
   "metadata": {},
   "outputs": [
    {
     "name": "stdout",
     "output_type": "stream",
     "text": [
      "+--------+---+\n",
      "|Name    |Age|\n",
      "+--------+---+\n",
      "|O. Pérez|45 |\n",
      "+--------+---+\n",
      "only showing top 1 row\n",
      "\n"
     ]
    }
   ],
   "source": [
    "dataFrame.select(\"Name\",\"Age\").sort(dataFrame.Age.desc()).show(1,False)"
   ]
  },
  {
   "cell_type": "code",
   "execution_count": 46,
   "id": "cooked-parliament",
   "metadata": {},
   "outputs": [
    {
     "name": "stdout",
     "output_type": "stream",
     "text": [
      "+-----------------+\n",
      "|Name             |\n",
      "+-----------------+\n",
      "|L. Messi         |\n",
      "|Cristiano Ronaldo|\n",
      "+-----------------+\n",
      "\n"
     ]
    }
   ],
   "source": [
    "dataFrame.select(\"Name\").where(dataFrame.Name.isin(\"L. Messi\",\"Cristiano Ronaldo\")).show(5,False)"
   ]
  },
  {
   "cell_type": "code",
   "execution_count": 52,
   "id": "recognized-happiness",
   "metadata": {},
   "outputs": [
    {
     "name": "stdout",
     "output_type": "stream",
     "text": [
      "+-----------------+-------------------------------+\n",
      "|Name             |substring(Release Clause, 0, 1)|\n",
      "+-----------------+-------------------------------+\n",
      "|L. Messi         |€                              |\n",
      "|Cristiano Ronaldo|€                              |\n",
      "|Neymar Jr        |€                              |\n",
      "|De Gea           |€                              |\n",
      "|K. De Bruyne     |€                              |\n",
      "+-----------------+-------------------------------+\n",
      "only showing top 5 rows\n",
      "\n"
     ]
    }
   ],
   "source": [
    "dataFrame.select(\"Name\",substring(\"Release Clause\",0,1)).show(5,False)"
   ]
  },
  {
   "cell_type": "code",
   "execution_count": 58,
   "id": "ancient-tolerance",
   "metadata": {},
   "outputs": [
    {
     "name": "stdout",
     "output_type": "stream",
     "text": [
      "+-------------+---+\n",
      "|Name         |Age|\n",
      "+-------------+---+\n",
      "|J. Villar    |41 |\n",
      "|B. Nivet     |41 |\n",
      "|O. Pérez     |45 |\n",
      "|C. Muñoz     |41 |\n",
      "|S. Narazaki  |42 |\n",
      "|H. Sulaimani |41 |\n",
      "|M. Tyler     |41 |\n",
      "|T. Warner    |44 |\n",
      "|K. Pilkington|44 |\n",
      "+-------------+---+\n",
      "\n"
     ]
    }
   ],
   "source": [
    "dataFrame.select(\"Name\",\"Age\").where(dataFrame.Age>40).show(truncate=False)"
   ]
  },
  {
   "cell_type": "code",
   "execution_count": null,
   "id": "durable-objective",
   "metadata": {},
   "outputs": [],
   "source": []
  }
 ],
 "metadata": {
  "kernelspec": {
   "display_name": "Python 3",
   "language": "python",
   "name": "python3"
  },
  "language_info": {
   "codemirror_mode": {
    "name": "ipython",
    "version": 3
   },
   "file_extension": ".py",
   "mimetype": "text/x-python",
   "name": "python",
   "nbconvert_exporter": "python",
   "pygments_lexer": "ipython3",
   "version": "3.6.8"
  }
 },
 "nbformat": 4,
 "nbformat_minor": 5
}
